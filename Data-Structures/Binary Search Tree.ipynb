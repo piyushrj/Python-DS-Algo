{
 "cells": [
  {
   "cell_type": "markdown",
   "id": "35ba5224",
   "metadata": {},
   "source": [
    "# Binary Search Tree"
   ]
  },
  {
   "cell_type": "markdown",
   "id": "1d9e8650",
   "metadata": {},
   "source": [
    "1. A tree data structure with each node having at most two children.\n",
    "    * Left Child - Stores value smaller than the parent.\n",
    "    * Right Child - Stores value larger than the parent.\n",
    "    \n",
    "    \n",
    "2. Efficient data structure for quick storage and retrieval. O(log n). It has the benefit of being easily expandable while maintaining a sorted order of the data.\n",
    "3. Depending upon the requirements, it can allow duplicate values in the tree (and decide to which side - left or right of the parent should they go) or only allow unique values in the tree."
   ]
  },
  {
   "cell_type": "code",
   "execution_count": 1,
   "id": "ef09bd7d",
   "metadata": {},
   "outputs": [],
   "source": [
    "class BinarySearchTree:\n",
    "    def __init__(self, value, depth=1):\n",
    "        self.value = value\n",
    "        self.depth = depth\n",
    "        self.left = None\n",
    "        self.right = None\n",
    "        \n",
    "    def insert(self, value):\n",
    "        if value < self.value:\n",
    "            if self.left == None:\n",
    "                # create a left subtree\n",
    "                self.left = BinarySearchTree(value, self.depth+1)\n",
    "            else:\n",
    "                self.left.insert(value)\n",
    "        else:\n",
    "            if self.right == None:\n",
    "                # create a right subtree\n",
    "                self.right = BinarySearchTree(value, self.depth+1)\n",
    "            else:\n",
    "                self.right.insert(value)\n",
    "                \n",
    "    def get_node_by_value(self, value):\n",
    "        if self.value == value:\n",
    "            return self\n",
    "        elif self.left != None and value < self.value:\n",
    "            return self.left.get_node_by_value(value)\n",
    "        elif self.right != None and value > self.value:\n",
    "            return self.right.get_node_by_value(value)\n",
    "        else:\n",
    "            return None\n",
    "        \n",
    "    def depth_first_traversal(self):\n",
    "        # using inorder traversal\n",
    "        if self.left != None:\n",
    "            self.left.depth_first_traversal()\n",
    "        \n",
    "        print(\"Depth= {} Value= {}\".format(self.depth, self.value))\n",
    "        \n",
    "        if self.right != None:\n",
    "            self.right.depth_first_traversal()"
   ]
  },
  {
   "cell_type": "code",
   "execution_count": 2,
   "id": "2cd5eb8a",
   "metadata": {},
   "outputs": [
    {
     "name": "stdout",
     "output_type": "stream",
     "text": [
      "Depth= 2 Value= 24\n",
      "Depth= 3 Value= 26\n",
      "Depth= 4 Value= 38\n",
      "Depth= 1 Value= 48\n",
      "Depth= 2 Value= 55\n",
      "Depth= 3 Value= 56\n",
      "Depth= 4 Value= 74\n"
     ]
    }
   ],
   "source": [
    "tree = BinarySearchTree(48)\n",
    "tree.insert(24)\n",
    "tree.insert(55)\n",
    "tree.insert(26)\n",
    "tree.insert(38)\n",
    "tree.insert(56)\n",
    "tree.insert(74)\n",
    "\n",
    "# Print depth-first traversal:\n",
    "tree.depth_first_traversal()"
   ]
  },
  {
   "cell_type": "code",
   "execution_count": null,
   "id": "f059c551",
   "metadata": {},
   "outputs": [],
   "source": []
  }
 ],
 "metadata": {
  "kernelspec": {
   "display_name": "Python 3",
   "language": "python",
   "name": "python3"
  },
  "language_info": {
   "codemirror_mode": {
    "name": "ipython",
    "version": 3
   },
   "file_extension": ".py",
   "mimetype": "text/x-python",
   "name": "python",
   "nbconvert_exporter": "python",
   "pygments_lexer": "ipython3",
   "version": "3.8.8"
  }
 },
 "nbformat": 4,
 "nbformat_minor": 5
}
