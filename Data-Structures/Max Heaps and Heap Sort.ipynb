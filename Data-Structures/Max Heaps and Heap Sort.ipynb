{
 "cells": [
  {
   "cell_type": "markdown",
   "id": "a2d4fe27",
   "metadata": {},
   "source": [
    "# Max Heaps"
   ]
  },
  {
   "cell_type": "markdown",
   "id": "eb8ba7ee",
   "metadata": {},
   "source": [
    "1. Heaps are a data structure used to maintain the maximum or minimum value in a dataset.\n",
    "2. Heaps come in two forms -\n",
    "    * Min Heap - Track the minimum value.\n",
    "    * Max Heap - Track the maximum value.\n",
    "    \n",
    "    \n",
    "3. A max-heap can be thought of as a **binary tree** with two additional qualities -\n",
    "    * Root is the maximum value in the dataset.\n",
    "    * Event parent's value is greater than it's child nodes.\n",
    "\n",
    "\n",
    "4. The binary tree representation gives us an intuitive understanding of max-heaps but they are practically implemented using a sequential data structure like an array/list for efficiency.\n",
    "5. Heaps enable solutions for complex problems such as finding the shortest path (Dijkstra's algorithm) or efficiently sorting a dataset (Heapsort)."
   ]
  },
  {
   "cell_type": "markdown",
   "id": "95a30872",
   "metadata": {},
   "source": [
    "## Adding element to a Max Heap"
   ]
  },
  {
   "cell_type": "markdown",
   "id": "7fee2e5d",
   "metadata": {},
   "source": [
    "1. We add element to the bottom of the tree. This can sometimes violate the max-heap property that parent's value must be larger than the child's value.\n",
    "2. To restore the max-heap property, we **heapify up**, that is, move the value up the tree (by swapping it with its parent) until we restore the properties or there's no parent left. "
   ]
  },
  {
   "cell_type": "code",
   "execution_count": 1,
   "id": "2c26d61d",
   "metadata": {},
   "outputs": [],
   "source": [
    "class MaxHeap:\n",
    "    def __init__(self):\n",
    "        self.heap_list = [None]\n",
    "        self.count = 0\n",
    "    \n",
    "    # helper methods\n",
    "    def parent_idx(self, idx):\n",
    "        return idx // 2\n",
    "    \n",
    "    def left_child_idx(self, idx):\n",
    "        return idx * 2\n",
    "    \n",
    "    def right_child_idx(self, idx):\n",
    "        return idx * 2 + 1\n",
    "    \n",
    "    # end of helper methods\n",
    "    \n",
    "    def add(self, element):\n",
    "        print(\"Adding {} to {}\".format(element, self.heap_list))\n",
    "        self.heap_list.append(element)\n",
    "        self.count += 1\n",
    "        # heapify up\n",
    "        self.heapify_up()\n",
    "        \n",
    "    def heapify_up(self):\n",
    "        print(\"Heapifying up...\")\n",
    "        idx = self.count\n",
    "        while self.parent_idx(idx) > 0:\n",
    "            child = self.heap_list[idx]\n",
    "            parent = self.heap_list[self.parent_idx(idx)]\n",
    "            if parent < child:\n",
    "                # swap\n",
    "                self.heap_list[idx] = parent\n",
    "                self.heap_list[self.parent_idx(idx)] = child\n",
    "            \n",
    "            idx = self.parent_idx(idx)\n",
    "        \n",
    "        print(\"Heap restored: {}\".format(self.heap_list))\n",
    "        "
   ]
  },
  {
   "cell_type": "code",
   "execution_count": 2,
   "id": "b19c03a2",
   "metadata": {},
   "outputs": [
    {
     "name": "stdout",
     "output_type": "stream",
     "text": [
      "Adding 95 to [None]\n",
      "Heapifying up...\n",
      "Heap restored: [None, 95]\n",
      "Adding 34 to [None, 95]\n",
      "Heapifying up...\n",
      "Heap restored: [None, 95, 34]\n",
      "Adding 45 to [None, 95, 34]\n",
      "Heapifying up...\n",
      "Heap restored: [None, 95, 34, 45]\n",
      "Adding 70 to [None, 95, 34, 45]\n",
      "Heapifying up...\n",
      "Heap restored: [None, 95, 70, 45, 34]\n",
      "Adding 75 to [None, 95, 70, 45, 34]\n",
      "Heapifying up...\n",
      "Heap restored: [None, 95, 75, 45, 34, 70]\n",
      "Adding 49 to [None, 95, 75, 45, 34, 70]\n",
      "Heapifying up...\n",
      "Heap restored: [None, 95, 75, 49, 34, 70, 45]\n"
     ]
    }
   ],
   "source": [
    "from random import randrange\n",
    "\n",
    "# make an instance of MaxHeap\n",
    "max_heap = MaxHeap()\n",
    "\n",
    "# populate max_heap with random numbers\n",
    "random_nums = [randrange(1, 101) for n in range(6)]\n",
    "for el in random_nums:\n",
    "    max_heap.add(el)"
   ]
  },
  {
   "cell_type": "code",
   "execution_count": 3,
   "id": "a81ffb40",
   "metadata": {},
   "outputs": [
    {
     "name": "stdout",
     "output_type": "stream",
     "text": [
      "[None, 95, 75, 49, 34, 70, 45]\n"
     ]
    }
   ],
   "source": [
    "# test it out, is the maximum number at index 1?\n",
    "print(max_heap.heap_list)"
   ]
  },
  {
   "cell_type": "markdown",
   "id": "8f527433",
   "metadata": {},
   "source": [
    "# Heap Sort"
   ]
  },
  {
   "cell_type": "markdown",
   "id": "1e0b3fe5",
   "metadata": {},
   "source": [
    "1. Uses max or min heap to store the data.\n",
    "2. Time efficient algorithm for sorting data. It has O(n log n) time complexity for every case.\n",
    "3. Algorithm -\n",
    "    * Build a max heap to store the data from an unsorted list.\n",
    "    * Extract the largest value from the heap (present at the root) and place it into a sorted array.\n",
    "    * Replace the root of the heap with the last element in the list. The re-balance the Heap so that is satisfies the properties of a max heap (heapify down).\n",
    "    * Once the max heap is empty return the sorted list."
   ]
  },
  {
   "cell_type": "markdown",
   "id": "5f1e158b",
   "metadata": {},
   "source": [
    "Let's add additional functionality to the MaxHeap class created above. We'll add methods to -\n",
    "1. Retrieve the maximum value from the Max Heap. This function will also replace the root with the last value and then heapify down.\n",
    "2. Heapify down. Going from the root node down, make sure that the tree is compliant to the Max Heap properties (parent > child). If not, then swap.\n",
    "3. Helper functions -\n",
    "    * Function to check if a node has a child.\n",
    "    * Function to get the larger child of a node."
   ]
  },
  {
   "cell_type": "raw",
   "id": "50c989b7",
   "metadata": {},
   "source": []
  },
  {
   "cell_type": "code",
   "execution_count": 4,
   "id": "5243d752",
   "metadata": {},
   "outputs": [],
   "source": [
    "class MaxHeap:\n",
    "    def __init__(self):\n",
    "        self.heap_list = [None]\n",
    "        self.count = 0\n",
    "    \n",
    "    # helper methods\n",
    "    def parent_idx(self, idx):\n",
    "        return idx // 2\n",
    "    \n",
    "    def left_child_idx(self, idx):\n",
    "        return idx * 2\n",
    "    \n",
    "    def right_child_idx(self, idx):\n",
    "        return idx * 2 + 1\n",
    "    \n",
    "    def child_present(self, idx):\n",
    "        return self.left_child_idx(idx) <= self.count\n",
    "    \n",
    "    def get_larger_child_idx(self, idx):\n",
    "        if self.right_child_idx(idx) > self.count:\n",
    "            # there's only left child\n",
    "            return self.left_child_idx(idx)\n",
    "        else:\n",
    "            left_child = self.heap_list[self.left_child_idx(idx)]\n",
    "            right_child = self.heap_list[self.right_child_idx(idx)]\n",
    "            if left_child > right_child:\n",
    "                return self.left_child_idx(idx)\n",
    "            else:\n",
    "                return self.right_child_idx(idx)\n",
    "    \n",
    "    # end of helper methods\n",
    "    \n",
    "    def add(self, element):\n",
    "        print(\"Adding {} to {}\".format(element, self.heap_list))\n",
    "        self.heap_list.append(element)\n",
    "        self.count += 1\n",
    "        # heapify up\n",
    "        self.heapify_up()\n",
    "        \n",
    "    def heapify_up(self):\n",
    "        print(\"Heapifying up...\")\n",
    "        idx = self.count\n",
    "        while self.parent_idx(idx) > 0:\n",
    "            child = self.heap_list[idx]\n",
    "            parent = self.heap_list[self.parent_idx(idx)]\n",
    "            if parent < child:\n",
    "                # swap\n",
    "                self.heap_list[idx] = parent\n",
    "                self.heap_list[self.parent_idx(idx)] = child\n",
    "            \n",
    "            idx = self.parent_idx(idx)\n",
    "        \n",
    "        print(\"Heap restored: {}\".format(self.heap_list))\n",
    "        \n",
    "    def retrieve_max(self):\n",
    "        if self.count == 0:\n",
    "            print(\"No items in the heap\")\n",
    "            return None\n",
    "        \n",
    "        max_val = self.heap_list[1]\n",
    "        \n",
    "        print(\"Removing {} from {}\".format(max_val, self.heap_list))\n",
    "        \n",
    "        self.heap_list[1] = self.heap_list[self.count]\n",
    "        self.heap_list.pop()\n",
    "        self.count -= 1\n",
    "        self.heapify_down()\n",
    "        \n",
    "        return max_val\n",
    "    \n",
    "    def heapify_down(self):\n",
    "        idx = 1\n",
    "        while self.child_present(idx):\n",
    "            larger_child_idx = self.get_larger_child_idx(idx)\n",
    "            child = self.heap_list[larger_child_idx]\n",
    "            parent = self.heap_list[idx]\n",
    "            if parent < child:\n",
    "                self.heap_list[idx] = child\n",
    "                self.heap_list[larger_child_idx] = parent\n",
    "            \n",
    "            idx = larger_child_idx\n",
    "        \n",
    "        print(\"HEAP RESTORED! {}\".format(self.heap_list))"
   ]
  },
  {
   "cell_type": "code",
   "execution_count": 5,
   "id": "d1f01885",
   "metadata": {},
   "outputs": [],
   "source": [
    "def heapsort(ls):\n",
    "    sorted_ls = []\n",
    "    max_heap = MaxHeap()\n",
    "    for item in ls:\n",
    "        max_heap.add(item)\n",
    "    \n",
    "    while max_heap.count > 0:\n",
    "        max_value = max_heap.retrieve_max()\n",
    "        sorted_ls.insert(0, max_value)\n",
    "        \n",
    "    return sorted_ls"
   ]
  },
  {
   "cell_type": "code",
   "execution_count": 6,
   "id": "332983a9",
   "metadata": {},
   "outputs": [
    {
     "name": "stdout",
     "output_type": "stream",
     "text": [
      "Adding 99 to [None]\n",
      "Heapifying up...\n",
      "Heap restored: [None, 99]\n",
      "Adding 22 to [None, 99]\n",
      "Heapifying up...\n",
      "Heap restored: [None, 99, 22]\n",
      "Adding 61 to [None, 99, 22]\n",
      "Heapifying up...\n",
      "Heap restored: [None, 99, 22, 61]\n",
      "Adding 10 to [None, 99, 22, 61]\n",
      "Heapifying up...\n",
      "Heap restored: [None, 99, 22, 61, 10]\n",
      "Adding 21 to [None, 99, 22, 61, 10]\n",
      "Heapifying up...\n",
      "Heap restored: [None, 99, 22, 61, 10, 21]\n",
      "Adding 13 to [None, 99, 22, 61, 10, 21]\n",
      "Heapifying up...\n",
      "Heap restored: [None, 99, 22, 61, 10, 21, 13]\n",
      "Adding 23 to [None, 99, 22, 61, 10, 21, 13]\n",
      "Heapifying up...\n",
      "Heap restored: [None, 99, 22, 61, 10, 21, 13, 23]\n",
      "Removing 99 from [None, 99, 22, 61, 10, 21, 13, 23]\n",
      "HEAP RESTORED! [None, 61, 22, 23, 10, 21, 13]\n",
      "Removing 61 from [None, 61, 22, 23, 10, 21, 13]\n",
      "HEAP RESTORED! [None, 23, 22, 13, 10, 21]\n",
      "Removing 23 from [None, 23, 22, 13, 10, 21]\n",
      "HEAP RESTORED! [None, 22, 21, 13, 10]\n",
      "Removing 22 from [None, 22, 21, 13, 10]\n",
      "HEAP RESTORED! [None, 21, 10, 13]\n",
      "Removing 21 from [None, 21, 10, 13]\n",
      "HEAP RESTORED! [None, 13, 10]\n",
      "Removing 13 from [None, 13, 10]\n",
      "HEAP RESTORED! [None, 10]\n",
      "Removing 10 from [None, 10]\n",
      "HEAP RESTORED! [None]\n",
      "[10, 13, 21, 22, 23, 61, 99]\n"
     ]
    }
   ],
   "source": [
    "my_list = [99, 22, 61, 10, 21, 13, 23]\n",
    "sorted_list = heapsort(my_list)\n",
    "print(sorted_list)"
   ]
  },
  {
   "cell_type": "code",
   "execution_count": null,
   "id": "4fca0935",
   "metadata": {},
   "outputs": [],
   "source": []
  }
 ],
 "metadata": {
  "kernelspec": {
   "display_name": "Python 3",
   "language": "python",
   "name": "python3"
  },
  "language_info": {
   "codemirror_mode": {
    "name": "ipython",
    "version": 3
   },
   "file_extension": ".py",
   "mimetype": "text/x-python",
   "name": "python",
   "nbconvert_exporter": "python",
   "pygments_lexer": "ipython3",
   "version": "3.8.8"
  }
 },
 "nbformat": 4,
 "nbformat_minor": 5
}
