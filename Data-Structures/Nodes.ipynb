{
 "cells": [
  {
   "cell_type": "markdown",
   "id": "b7f689d6",
   "metadata": {},
   "source": [
    "# Nodes  \n",
    "\n",
    "1. Nodes are the fundamental building blocks for many computer data structures.\n",
    "2. An individual node contains data and a link (also called a pointer) to other node .\n",
    "    * The data can be of a variety of data types.\n",
    "    * Nodes contain links to other nodes. If a node has no links or they are null, you have reached the end of the path you were following.\n",
    "    * Nodes can be orphaned in there are no existing links to them."
   ]
  },
  {
   "cell_type": "code",
   "execution_count": 1,
   "id": "78229fc8",
   "metadata": {},
   "outputs": [],
   "source": [
    "class Node:\n",
    "    def __init__(self, value, next_node=None):\n",
    "        self.value = value\n",
    "        self.next_node = next_node\n",
    "    \n",
    "    def get_value(self):\n",
    "        return self.value\n",
    "    \n",
    "    def get_next_node(self):\n",
    "        return self.next_node\n",
    "    \n",
    "    def set_next_node(self, next_node):\n",
    "        self.next_node = next_node\n",
    " "
   ]
  },
  {
   "cell_type": "code",
   "execution_count": null,
   "id": "df4ec8e1",
   "metadata": {},
   "outputs": [],
   "source": []
  }
 ],
 "metadata": {
  "kernelspec": {
   "display_name": "Python 3",
   "language": "python",
   "name": "python3"
  },
  "language_info": {
   "codemirror_mode": {
    "name": "ipython",
    "version": 3
   },
   "file_extension": ".py",
   "mimetype": "text/x-python",
   "name": "python",
   "nbconvert_exporter": "python",
   "pygments_lexer": "ipython3",
   "version": "3.8.8"
  }
 },
 "nbformat": 4,
 "nbformat_minor": 5
}
