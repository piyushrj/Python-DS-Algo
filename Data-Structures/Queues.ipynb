{
 "cells": [
  {
   "cell_type": "markdown",
   "id": "c468461d",
   "metadata": {},
   "source": [
    "# Queues"
   ]
  },
  {
   "cell_type": "markdown",
   "id": "8fc5b890",
   "metadata": {},
   "source": [
    "1. Data Structure inspired by the real world queues  \n",
    "2. Follows FIFO (First In First Out) - Data is added at the back and is removed from the front\n",
    "3. A queue generally has three interaction methods -\n",
    "    * Enqueue - Add data to the back (or end) of the queue\n",
    "    * Dequeue - Remove data from the front (or beginning) of the queue\n",
    "    * Peek - See the data at the front without removing it\n",
    "\n",
    "4. It can have a fixed size, in which case it is called a bounded queue\n",
    "5. If you try to enqueue to a filled queue, it results in queue overflow\n",
    "6. If you try to dequeue from an empty queue, it results in queue underflow\n",
    "7. It can be implemeneted using a LinkedList or Array"
   ]
  },
  {
   "cell_type": "markdown",
   "id": "99cd37d0",
   "metadata": {},
   "source": [
    "## Creating a Queue class"
   ]
  },
  {
   "cell_type": "markdown",
   "id": "7a5278fb",
   "metadata": {},
   "source": [
    "Let's first create a node class -"
   ]
  },
  {
   "cell_type": "code",
   "execution_count": 1,
   "id": "309fc67a",
   "metadata": {},
   "outputs": [],
   "source": [
    "class Node:\n",
    "    def __init__(self, value, next_node=None):\n",
    "        self.value = value\n",
    "        self.next_node = next_node\n",
    "    \n",
    "    def get_value(self):\n",
    "        return self.value\n",
    "    \n",
    "    def get_next_node(self):\n",
    "        return self.next_node\n",
    "    \n",
    "    def set_next_node(self, next_node):\n",
    "        self.next_node = next_node"
   ]
  },
  {
   "cell_type": "markdown",
   "id": "61fc1b70",
   "metadata": {},
   "source": [
    "Now, let's create a Queue class having the ability to -\n",
    "* Enqueue\n",
    "* Dequeue\n",
    "* Peek"
   ]
  },
  {
   "cell_type": "code",
   "execution_count": 2,
   "id": "eb68d98b",
   "metadata": {},
   "outputs": [],
   "source": [
    "class Queue:\n",
    "    def __init__(self, max_size=None):\n",
    "        self.head = None\n",
    "        self.tail = None\n",
    "        self.max_size = max_size\n",
    "        self.size = 0\n",
    "    \n",
    "    def peek(self):\n",
    "        return self.head.get_value()\n",
    "    \n",
    "    def has_space(self):\n",
    "        if self.max_size == None:\n",
    "            return True\n",
    "        else:\n",
    "            return self.size < self.max_size\n",
    "        \n",
    "    def is_empty(self):\n",
    "        return self.size == 0\n",
    "    \n",
    "    def enqueue(self, value):\n",
    "        new_tail = Node(value)\n",
    "        # check if the queue is full\n",
    "        if not self.has_space():\n",
    "            print(\"The Queue is full\")\n",
    "            return\n",
    "        # check if the queue is empty\n",
    "        if self.is_empty():\n",
    "            self.head = new_tail\n",
    "            self.tail = new_tail\n",
    "        else:\n",
    "            curr_tail = self.tail\n",
    "            curr_tail.set_next_node(new_tail)\n",
    "            self.tail = new_tail\n",
    "        \n",
    "        self.size += 1\n",
    "        \n",
    "    def dequeue(self):\n",
    "        # check if the queue is empty\n",
    "        if self.is_empty():\n",
    "            print(\"Queue is alreay empty\")\n",
    "            return\n",
    "        \n",
    "        removed_head = self.head\n",
    "        if self.size == 1:\n",
    "            self.head = None\n",
    "            self.tail = None\n",
    "        else:\n",
    "            new_head = self.head.get_next_node()\n",
    "            self.head = new_head\n",
    "        \n",
    "        self.size -= 1\n",
    "        return removed_head.get_value()\n",
    "        \n",
    "    def stringify_list(self):\n",
    "        curr_node = self.head\n",
    "        s = \"\"\n",
    "        while curr_node is not None:\n",
    "            s += str(curr_node.get_value()) + \"\\n\"\n",
    "            curr_node = curr_node.get_next_node()\n",
    "        return s\n",
    "        "
   ]
  },
  {
   "cell_type": "code",
   "execution_count": 3,
   "id": "657cc8e1",
   "metadata": {},
   "outputs": [
    {
     "name": "stdout",
     "output_type": "stream",
     "text": [
      "The Queue is full\n",
      "1\n",
      "2\n",
      "3\n",
      "4\n",
      "\n"
     ]
    }
   ],
   "source": [
    "q = Queue(4)\n",
    "q.enqueue(1)\n",
    "q.enqueue(2)\n",
    "q.enqueue(3)\n",
    "q.enqueue(4)\n",
    "q.enqueue(5)\n",
    "\n",
    "print(q.stringify_list())"
   ]
  },
  {
   "cell_type": "code",
   "execution_count": 4,
   "id": "71154047",
   "metadata": {},
   "outputs": [
    {
     "name": "stdout",
     "output_type": "stream",
     "text": [
      "2\n",
      "3\n",
      "4\n",
      "\n"
     ]
    }
   ],
   "source": [
    "q.dequeue()\n",
    "print(q.stringify_list())"
   ]
  },
  {
   "cell_type": "code",
   "execution_count": 5,
   "id": "9a35631b",
   "metadata": {},
   "outputs": [
    {
     "name": "stdout",
     "output_type": "stream",
     "text": [
      "\n"
     ]
    }
   ],
   "source": [
    "q.dequeue()\n",
    "q.dequeue()\n",
    "q.dequeue()\n",
    "print(q.stringify_list())"
   ]
  },
  {
   "cell_type": "code",
   "execution_count": 6,
   "id": "07d5e3e9",
   "metadata": {},
   "outputs": [
    {
     "name": "stdout",
     "output_type": "stream",
     "text": [
      "Queue is alreay empty\n",
      "Queue is alreay empty\n",
      "\n"
     ]
    }
   ],
   "source": [
    "q.dequeue()\n",
    "q.dequeue()\n",
    "print(q.stringify_list())"
   ]
  },
  {
   "cell_type": "code",
   "execution_count": 7,
   "id": "d85b1738",
   "metadata": {},
   "outputs": [
    {
     "name": "stdout",
     "output_type": "stream",
     "text": [
      "4\n",
      "5\n",
      "\n"
     ]
    }
   ],
   "source": [
    "q.enqueue(4)\n",
    "q.enqueue(5)\n",
    "print(q.stringify_list())"
   ]
  },
  {
   "cell_type": "markdown",
   "id": "b0c4a3fe",
   "metadata": {},
   "source": [
    "## Queue implementation with Python list"
   ]
  },
  {
   "cell_type": "code",
   "execution_count": 8,
   "id": "b04aaa2f",
   "metadata": {},
   "outputs": [
    {
     "data": {
      "text/plain": [
       "2"
      ]
     },
     "execution_count": 8,
     "metadata": {},
     "output_type": "execute_result"
    }
   ],
   "source": [
    "q = [1,2,3,4]\n",
    "# enqueue\n",
    "q.append(5)\n",
    "# dequeue\n",
    "q.pop(0)\n",
    "# peek\n",
    "q[0]"
   ]
  },
  {
   "cell_type": "code",
   "execution_count": null,
   "id": "25eb8e08",
   "metadata": {},
   "outputs": [],
   "source": []
  }
 ],
 "metadata": {
  "kernelspec": {
   "display_name": "Python 3",
   "language": "python",
   "name": "python3"
  },
  "language_info": {
   "codemirror_mode": {
    "name": "ipython",
    "version": 3
   },
   "file_extension": ".py",
   "mimetype": "text/x-python",
   "name": "python",
   "nbconvert_exporter": "python",
   "pygments_lexer": "ipython3",
   "version": "3.8.8"
  }
 },
 "nbformat": 4,
 "nbformat_minor": 5
}
