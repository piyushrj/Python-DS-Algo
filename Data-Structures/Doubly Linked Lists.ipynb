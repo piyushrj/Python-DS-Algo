{
 "cells": [
  {
   "cell_type": "markdown",
   "id": "38f7a7c7",
   "metadata": {},
   "source": [
    "# Doubly Linked Lists"
   ]
  },
  {
   "cell_type": "markdown",
   "id": "7265f273",
   "metadata": {},
   "source": [
    "* In doubly linked list each node, in addition to having a link to the next node in the list, has a link to the previous node in the list. We also keep track of tail node, in addition to the head node.  \n",
    "\n",
    "* It is bidirectional and can be traversed in both the directions."
   ]
  },
  {
   "cell_type": "markdown",
   "id": "44d65f4c",
   "metadata": {},
   "source": [
    "First, let's create a Node class capable of handling nodes in a Doubly Linked List"
   ]
  },
  {
   "cell_type": "code",
   "execution_count": 1,
   "id": "672fe5b7",
   "metadata": {},
   "outputs": [],
   "source": [
    "class Node:\n",
    "    def __init__(self, value, next_node=None, prev_node=None):\n",
    "        self.value = value\n",
    "        self.next_node = next_node\n",
    "        self.prev_node = prev_node\n",
    "        \n",
    "    def get_value(self):\n",
    "        return self.value\n",
    "    \n",
    "    def get_next_node(self):\n",
    "        return self.next_node\n",
    "    \n",
    "    def get_prev_node(self):\n",
    "        return self.prev_node\n",
    "    \n",
    "    def set_next_node(self, next_node):\n",
    "        self.next_node = next_node\n",
    "    \n",
    "    def set_prev_node(self, prev_node):\n",
    "        self.prev_node = prev_node\n",
    "    "
   ]
  },
  {
   "cell_type": "markdown",
   "id": "050d3d95",
   "metadata": {},
   "source": [
    "Depending upon the use-case, a number of methods can be defined. Let's create a DoublyLinkedList class that allows us to -  \n",
    "\n",
    "* Add new node to the head of the list \n",
    "* Add new node to the tail of the list\n",
    "* Remove a node from the head of the list\n",
    "* Remove a node from the tail of the list\n",
    "* Find and remove specific node by value\n",
    "* Print out the nodes in the list in order from head to tail"
   ]
  },
  {
   "cell_type": "code",
   "execution_count": 2,
   "id": "7f15daf2",
   "metadata": {},
   "outputs": [],
   "source": [
    "class DoublyLinkedList:\n",
    "    def __init__(self):\n",
    "        self.head_node = None\n",
    "        self.tail_node = None\n",
    "        \n",
    "    def add_to_head(self, new_value):\n",
    "        new_head = Node(new_value)\n",
    "        current_head = self.head_node\n",
    "        \n",
    "        if current_head is not None:\n",
    "            new_head.set_next_node(current_head)\n",
    "            current_head.set_prev_node(new_head)\n",
    "        \n",
    "        self.head_node = new_head\n",
    "        \n",
    "        if self.tail_node is None:\n",
    "            self.tail_node = self.head_node\n",
    "    \n",
    "    def add_to_tail(self, new_value):\n",
    "        new_tail = Node(new_value)\n",
    "        current_tail = self.tail_node\n",
    "        \n",
    "        if current_tail is not None:\n",
    "            current_tail.set_next_node(new_tail)\n",
    "            new_tail.set_prev_node(current_tail)\n",
    "        \n",
    "        self.tail_node = new_tail\n",
    "        \n",
    "        if self.head_node is None:\n",
    "            self.head_node = self.tail_node\n",
    "    \n",
    "    def remove_head(self):\n",
    "        removed_head = self.head_node\n",
    "        if removed_head is None:\n",
    "            return\n",
    "        \n",
    "        self.head_node = removed_head.get_next_node()\n",
    "        if self.head_node is not None:\n",
    "            self.head_node.set_prev_node(None)\n",
    "        \n",
    "        if removed_head == self.tail_node:\n",
    "            self.remove_tail()\n",
    "    \n",
    "    def remove_tail(self):\n",
    "        removed_tail = self.tail_node\n",
    "        if removed_tail is None:\n",
    "            return\n",
    "        \n",
    "        self.tail_node = removed_tail.get_prev_node()\n",
    "        if self.tail_node is not None:\n",
    "            self.tail_node.set_next_node(None)\n",
    "            \n",
    "        if removed_tail == self.head_node:\n",
    "            self.remove_head()\n",
    "            \n",
    "        return removed_tail.get_value()\n",
    "        \n",
    "    def remove_by_value(self, value_to_remove):\n",
    "        node_to_remove = None\n",
    "        current_node = self.head_node\n",
    "        while current_node is not None:\n",
    "            if current_node.get_value() == value_to_remove:\n",
    "                node_to_remove = current_node\n",
    "                break\n",
    "            current_node = current_node.get_next_node()\n",
    "        \n",
    "        if node_to_remove is None:\n",
    "            return\n",
    "        \n",
    "        if node_to_remove == self.head_node:\n",
    "            self.remove_head()\n",
    "        elif node_to_remove == self.tail_node:\n",
    "            self.remove_tail()\n",
    "        else:\n",
    "            prev_node = node_to_remove.get_prev_node()\n",
    "            next_node = node_to_remove.get_next_node()\n",
    "            prev_node.set_next_node(next_node)\n",
    "            next_node.set_prev_node(prev_node)\n",
    "        return node_to_remove\n",
    "    \n",
    "    def stringify_list(self):\n",
    "        s = \"\"\n",
    "        curr_node = self.head_node\n",
    "        while (curr_node is not None):\n",
    "            s += str(curr_node.get_value()) + \"\\n\"\n",
    "            curr_node = curr_node.get_next_node()\n",
    "        return s\n",
    "            "
   ]
  },
  {
   "cell_type": "code",
   "execution_count": 3,
   "id": "21499a06",
   "metadata": {},
   "outputs": [
    {
     "name": "stdout",
     "output_type": "stream",
     "text": [
      "Central Park\n",
      "Grand Central\n",
      "Times Square\n",
      "\n"
     ]
    }
   ],
   "source": [
    "subway = DoublyLinkedList()\n",
    "subway.add_to_head(\"Times Square\")\n",
    "subway.add_to_head(\"Grand Central\")\n",
    "subway.add_to_head(\"Central Park\")\n",
    "print(subway.stringify_list())"
   ]
  },
  {
   "cell_type": "code",
   "execution_count": 4,
   "id": "b55bb0e6",
   "metadata": {},
   "outputs": [
    {
     "name": "stdout",
     "output_type": "stream",
     "text": [
      "Central Park\n",
      "Grand Central\n",
      "Times Square\n",
      "Penn State\n",
      "Wall Street\n",
      "Brooklyn Bridge\n",
      "\n"
     ]
    }
   ],
   "source": [
    "subway.add_to_tail(\"Penn State\")\n",
    "subway.add_to_tail(\"Wall Street\")\n",
    "subway.add_to_tail(\"Brooklyn Bridge\")\n",
    "print(subway.stringify_list())"
   ]
  },
  {
   "cell_type": "code",
   "execution_count": 5,
   "id": "e6dba5db",
   "metadata": {},
   "outputs": [
    {
     "name": "stdout",
     "output_type": "stream",
     "text": [
      "Grand Central\n",
      "Times Square\n",
      "Penn State\n",
      "Wall Street\n",
      "\n"
     ]
    }
   ],
   "source": [
    "subway.remove_by_value(\"Central Park\")\n",
    "subway.remove_by_value(\"Brooklyn Bridge\")\n",
    "print(subway.stringify_list())"
   ]
  },
  {
   "cell_type": "code",
   "execution_count": 6,
   "id": "e6ec6987",
   "metadata": {},
   "outputs": [
    {
     "name": "stdout",
     "output_type": "stream",
     "text": [
      "Grand Central\n",
      "Penn State\n",
      "Wall Street\n",
      "\n"
     ]
    }
   ],
   "source": [
    "subway.remove_by_value(\"Times Square\")\n",
    "print(subway.stringify_list())"
   ]
  },
  {
   "cell_type": "code",
   "execution_count": null,
   "id": "4b1656bd",
   "metadata": {},
   "outputs": [],
   "source": []
  }
 ],
 "metadata": {
  "kernelspec": {
   "display_name": "Python 3",
   "language": "python",
   "name": "python3"
  },
  "language_info": {
   "codemirror_mode": {
    "name": "ipython",
    "version": 3
   },
   "file_extension": ".py",
   "mimetype": "text/x-python",
   "name": "python",
   "nbconvert_exporter": "python",
   "pygments_lexer": "ipython3",
   "version": "3.8.8"
  }
 },
 "nbformat": 4,
 "nbformat_minor": 5
}
