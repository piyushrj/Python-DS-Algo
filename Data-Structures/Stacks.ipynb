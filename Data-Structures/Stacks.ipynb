{
 "cells": [
  {
   "cell_type": "markdown",
   "id": "f98bc792",
   "metadata": {},
   "source": [
    "# Stacks"
   ]
  },
  {
   "cell_type": "markdown",
   "id": "4ad5f4a4",
   "metadata": {},
   "source": [
    "1. Data Structure inspired by the real world stacks (example, a stack of books)  \n",
    "2. Follows LIFO (Last In First Out) - Data is both added and removed from the top.\n",
    "3. A stack generally has three interaction methods -\n",
    "    * Push - Add data to the top of the stack\n",
    "    * Pop - Remove data from the top of the stack\n",
    "    * Peek - See the data at the top without removing it\n",
    "4. It can have a fixed size, in which case it is called a bounded stack\n",
    "5. If you try to push to a filled stack, it results in stack overflow\n",
    "6. If you try to pop from an empty stack, it results in stack underflow\n",
    "7. It can be implemeneted using a LinkedList or Array (or list). LinkedList is more efficient for stack implementation. The head of the linked list can be considered as the stack top."
   ]
  },
  {
   "cell_type": "markdown",
   "id": "696fc401",
   "metadata": {},
   "source": [
    "## Creating a Stack class"
   ]
  },
  {
   "cell_type": "markdown",
   "id": "5dcce181",
   "metadata": {},
   "source": [
    "Let's first create a node class -"
   ]
  },
  {
   "cell_type": "code",
   "execution_count": 1,
   "id": "add3747b",
   "metadata": {},
   "outputs": [],
   "source": [
    "class Node:\n",
    "    def __init__(self, value, next_node=None):\n",
    "        self.value = value\n",
    "        self.next_node = next_node\n",
    "    \n",
    "    def get_value(self):\n",
    "        return self.value\n",
    "    \n",
    "    def get_next_node(self):\n",
    "        return self.next_node\n",
    "    \n",
    "    def set_next_node(self, next_node):\n",
    "        self.next_node = next_node"
   ]
  },
  {
   "cell_type": "markdown",
   "id": "1120a8a5",
   "metadata": {},
   "source": [
    "Now, let's create a Stack class having the ability to -\n",
    "* Push\n",
    "* Pop\n",
    "* Peek"
   ]
  },
  {
   "cell_type": "code",
   "execution_count": 2,
   "id": "495367bc",
   "metadata": {},
   "outputs": [],
   "source": [
    "class Stack:\n",
    "    def __init__(self, max_size=None):\n",
    "        self.head = None\n",
    "        self.max_size = max_size\n",
    "        self.size = 0\n",
    "    \n",
    "    def peek(self):\n",
    "        return self.head.get_value()\n",
    "    \n",
    "    def is_empty(self):\n",
    "        return self.size == 0\n",
    "    \n",
    "    def has_space(self):\n",
    "        if self.max_size == None:\n",
    "            return True\n",
    "        else:\n",
    "            return self.size < self.max_size\n",
    "        \n",
    "    def push(self, item):\n",
    "        # check if the stack is not full\n",
    "        if self.has_space():\n",
    "            node_to_push = Node(item)\n",
    "            curr_head = self.head\n",
    "            node_to_push.set_next_node(curr_head)\n",
    "            self.head = node_to_push\n",
    "            self.size += 1\n",
    "        else:\n",
    "            print(\"Cannot push, stack is full\")\n",
    "    \n",
    "    def pop(self):\n",
    "        # check if the stack is empty\n",
    "        if self.is_empty():\n",
    "            print(\"Cannot pop, stack is empty\")\n",
    "            return\n",
    "        else:\n",
    "            node_to_pop = self.head\n",
    "            self.head = self.head.get_next_node()\n",
    "            self.size -= 1\n",
    "            return node_to_pop.get_value()\n",
    "        \n",
    "    def stringify_list(self):\n",
    "        curr_node = self.head\n",
    "        s = \"\"\n",
    "        while curr_node is not None:\n",
    "            s += str(curr_node.get_value()) + \"\\n\"\n",
    "            curr_node = curr_node.get_next_node()\n",
    "        return s\n",
    "        "
   ]
  },
  {
   "cell_type": "code",
   "execution_count": 3,
   "id": "b592a9f0",
   "metadata": {},
   "outputs": [
    {
     "name": "stdout",
     "output_type": "stream",
     "text": [
      "Cannot push, stack is full\n",
      "4\n",
      "3\n",
      "2\n",
      "1\n",
      "\n"
     ]
    }
   ],
   "source": [
    "s = Stack(4)\n",
    "s.push(1)\n",
    "s.push(2)\n",
    "s.push(3)\n",
    "s.push(4)\n",
    "s.push(5)\n",
    "\n",
    "print(s.stringify_list())"
   ]
  },
  {
   "cell_type": "code",
   "execution_count": 4,
   "id": "bf816524",
   "metadata": {},
   "outputs": [
    {
     "name": "stdout",
     "output_type": "stream",
     "text": [
      "3\n",
      "2\n",
      "1\n",
      "\n"
     ]
    }
   ],
   "source": [
    "s.pop()\n",
    "print(s.stringify_list())"
   ]
  },
  {
   "cell_type": "code",
   "execution_count": 5,
   "id": "d2534d12",
   "metadata": {},
   "outputs": [
    {
     "name": "stdout",
     "output_type": "stream",
     "text": [
      "7\n",
      "1\n",
      "\n"
     ]
    }
   ],
   "source": [
    "s.pop()\n",
    "s.pop()\n",
    "s.push(7)\n",
    "print(s.stringify_list())"
   ]
  },
  {
   "cell_type": "code",
   "execution_count": 6,
   "id": "58beb749",
   "metadata": {},
   "outputs": [
    {
     "name": "stdout",
     "output_type": "stream",
     "text": [
      "\n"
     ]
    }
   ],
   "source": [
    "s.pop()\n",
    "s.pop()\n",
    "print(s.stringify_list())"
   ]
  },
  {
   "cell_type": "markdown",
   "id": "de518461",
   "metadata": {},
   "source": [
    "## Stack implementation with Python list"
   ]
  },
  {
   "cell_type": "code",
   "execution_count": 7,
   "id": "aed25a12",
   "metadata": {},
   "outputs": [
    {
     "data": {
      "text/plain": [
       "4"
      ]
     },
     "execution_count": 7,
     "metadata": {},
     "output_type": "execute_result"
    }
   ],
   "source": [
    "s = [1,2,3,4]\n",
    "# push\n",
    "s.append(5)\n",
    "# pop\n",
    "s.pop()\n",
    "# peek\n",
    "s[-1]"
   ]
  },
  {
   "cell_type": "code",
   "execution_count": null,
   "id": "1af93418",
   "metadata": {},
   "outputs": [],
   "source": []
  }
 ],
 "metadata": {
  "kernelspec": {
   "display_name": "Python 3",
   "language": "python",
   "name": "python3"
  },
  "language_info": {
   "codemirror_mode": {
    "name": "ipython",
    "version": 3
   },
   "file_extension": ".py",
   "mimetype": "text/x-python",
   "name": "python",
   "nbconvert_exporter": "python",
   "pygments_lexer": "ipython3",
   "version": "3.8.8"
  }
 },
 "nbformat": 4,
 "nbformat_minor": 5
}
