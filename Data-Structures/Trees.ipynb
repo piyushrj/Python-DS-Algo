{
 "cells": [
  {
   "cell_type": "markdown",
   "id": "752e3a8f",
   "metadata": {},
   "source": [
    "# Trees"
   ]
  },
  {
   "cell_type": "markdown",
   "id": "e82a9a18",
   "metadata": {},
   "source": [
    "1. Trees are useful for modeling that has a hierarchical relationship that moves in the direction from parent to child. \n",
    "2. No child will have more than one parent.  \n",
    "3. Terminology -\n",
    "    * **root** - A node which has no parent. One per tree.\n",
    "    * **parent** - A node which references other nodes.\n",
    "    * **child** - Nodes referenced by other nodes.\n",
    "    * **sibling** - Nodes which have the same parent.\n",
    "    * **leaf** - Nodes with no children.\n",
    "    * **level** - The height or depth of a tree. Root nodes are at level 1."
   ]
  },
  {
   "cell_type": "markdown",
   "id": "1966f439",
   "metadata": {},
   "source": [
    "## Tree class"
   ]
  },
  {
   "cell_type": "code",
   "execution_count": 1,
   "id": "60e45db3",
   "metadata": {},
   "outputs": [],
   "source": [
    "class TreeNode:\n",
    "    def __init__(self, value):\n",
    "        # data\n",
    "        self.value = value\n",
    "        # references to other nodes\n",
    "        self.children = []\n",
    "    \n",
    "    def add_child(self, child_node):\n",
    "        # add a parent-child relationship\n",
    "        self.children.append(child_node)\n",
    "        \n",
    "    def remove_child(self, child_node):\n",
    "        # remove a parent-child relationship\n",
    "        self.children = [child for child in self.children if child != child_node]\n",
    "    \n",
    "    def traverse(self):\n",
    "        # move through each node referenced from self downwards\n",
    "        nodes_to_visit = [self]\n",
    "        while len(nodes_to_visit) > 0:\n",
    "            current_node = nodes_to_visit.pop()\n",
    "            print(current_node.value)\n",
    "            nodes_to_visit += current_node.children"
   ]
  },
  {
   "cell_type": "code",
   "execution_count": 2,
   "id": "072ba2b4",
   "metadata": {},
   "outputs": [
    {
     "name": "stdout",
     "output_type": "stream",
     "text": [
      "Founder\n",
      "Executive Assistant\n",
      "VP of Bananas\n",
      "Banana R & D\n"
     ]
    }
   ],
   "source": [
    "root = TreeNode(\"Founder\")\n",
    "child_a = TreeNode(\"VP of Bananas\")\n",
    "child_b = TreeNode(\"Executive Assistant\")\n",
    "child_c = TreeNode(\"Banana R & D\")\n",
    "\n",
    "# add children to the root\n",
    "root.add_child(child_a)\n",
    "root.add_child(child_b)\n",
    "\n",
    "# assigning child_c to child_a creates an additional level in the tree\n",
    "child_a.add_child(child_c)\n",
    "\n",
    "# traverse from root\n",
    "root.traverse()"
   ]
  },
  {
   "cell_type": "code",
   "execution_count": 3,
   "id": "14a07dcb",
   "metadata": {},
   "outputs": [
    {
     "data": {
      "text/plain": [
       "4"
      ]
     },
     "execution_count": 3,
     "metadata": {},
     "output_type": "execute_result"
    }
   ],
   "source": [
    "2+2"
   ]
  },
  {
   "cell_type": "code",
   "execution_count": null,
   "id": "5bcde47e",
   "metadata": {},
   "outputs": [],
   "source": []
  }
 ],
 "metadata": {
  "kernelspec": {
   "display_name": "Python 3",
   "language": "python",
   "name": "python3"
  },
  "language_info": {
   "codemirror_mode": {
    "name": "ipython",
    "version": 3
   },
   "file_extension": ".py",
   "mimetype": "text/x-python",
   "name": "python",
   "nbconvert_exporter": "python",
   "pygments_lexer": "ipython3",
   "version": "3.8.8"
  }
 },
 "nbformat": 4,
 "nbformat_minor": 5
}
