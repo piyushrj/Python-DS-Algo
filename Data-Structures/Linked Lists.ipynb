{
 "cells": [
  {
   "cell_type": "markdown",
   "id": "0d0cdd3d",
   "metadata": {},
   "source": [
    "# Linked Lists \n",
    "\n",
    "1. One of the basic data structures, often used as the basis for many other data structures. \n",
    "\n",
    "\n",
    "2. Each node in a linked list, in addition to containing its data, stores the pointer (link) to the next node in the list. \n",
    "    * The head node is the node at the beginning of the list.\n",
    "    * The list is terminated when a node's link is null. The last node is called the tail node. \n",
    "    \n",
    "    \n",
    "3. Since the nodes store the links to the next node in the sequence, the nodes are not required to be sequentially located in memory. \n",
    "\n",
    "\n",
    "4. The common operations on a linked list may include -\n",
    "    * Adding nodes\n",
    "    * Removing nodes\n",
    "    * Finding nodes\n",
    "    * Traversing the linked list"
   ]
  },
  {
   "cell_type": "markdown",
   "id": "2aca53b5",
   "metadata": {},
   "source": [
    "## Creating a Linked List class"
   ]
  },
  {
   "cell_type": "markdown",
   "id": "da761c46",
   "metadata": {},
   "source": [
    "First, let's create a Node class."
   ]
  },
  {
   "cell_type": "code",
   "execution_count": 4,
   "id": "3b9a7a63",
   "metadata": {},
   "outputs": [],
   "source": [
    "class Node:\n",
    "    def __init__(self, value, next_node=None):\n",
    "        self.value = value\n",
    "        self.next_node = next_node\n",
    "    \n",
    "    def get_value(self):\n",
    "        return self.value\n",
    "    \n",
    "    def get_next_node(self):\n",
    "        return self.next_node\n",
    "    \n",
    "    def set_next_node(self, next_node):\n",
    "        self.next_node = next_node"
   ]
  },
  {
   "cell_type": "markdown",
   "id": "07e8c0bd",
   "metadata": {},
   "source": [
    "Depending upon the usage a variety of methods and instance variables can be used. Let's create a linked list that allows us to -  \n",
    "* Get the head node of the list (peeking the first element)\n",
    "* Add a node to the beginning of the list\n",
    "* Print the values in order\n",
    "* Remove a node that has a particular value"
   ]
  },
  {
   "cell_type": "code",
   "execution_count": 22,
   "id": "b36899db",
   "metadata": {},
   "outputs": [],
   "source": [
    "class LinkedList:\n",
    "    def __init__(self, value=None):\n",
    "        self.head_node = Node(value)\n",
    "    \n",
    "    def get_head_node(self):\n",
    "        return self.head_node\n",
    "    \n",
    "    def insert_beginning(self, new_value):\n",
    "        new_node = Node(new_value)\n",
    "        new_node.set_next_node(self.head_node)\n",
    "        self.head_node = new_node\n",
    "        \n",
    "    def stringify_list(self):\n",
    "        s = \"\"\n",
    "        curr_node = self.get_head_node()\n",
    "        while(curr_node):\n",
    "            s += str(curr_node.get_value()) + \"\\n\"\n",
    "            curr_node = curr_node.get_next_node()\n",
    "        return s\n",
    "    \n",
    "    def remove_node(self, value_to_remove):\n",
    "        curr_node = self.get_head_node()\n",
    "        \n",
    "        # check if the node to remove is the head node\n",
    "        if curr_node.get_value() == value_to_remove:\n",
    "            self.head_node = curr_node.get_next_node()\n",
    "        else:\n",
    "            # traverse through the list to find the node to remove\n",
    "            while(curr_node):\n",
    "                if curr_node.get_next_node().get_value() == value_to_remove:\n",
    "                    # remove the node\n",
    "                    curr_node.set_next_node(curr_node.get_next_node().get_next_node())\n",
    "                    curr_node = None\n",
    "                else:\n",
    "                    curr_node = curr_node.get_next_node()\n",
    "                    "
   ]
  },
  {
   "cell_type": "markdown",
   "id": "e0509c88",
   "metadata": {},
   "source": [
    "Let's implement the above linked list."
   ]
  },
  {
   "cell_type": "code",
   "execution_count": 26,
   "id": "0dee7967",
   "metadata": {},
   "outputs": [
    {
     "name": "stdout",
     "output_type": "stream",
     "text": [
      "90\n",
      "5675\n",
      "70\n",
      "5\n",
      "\n"
     ]
    }
   ],
   "source": [
    "ll = LinkedList(5)\n",
    "ll.insert_beginning(70)\n",
    "ll.insert_beginning(5675)\n",
    "ll.insert_beginning(90)\n",
    "print(ll.stringify_list())"
   ]
  },
  {
   "cell_type": "code",
   "execution_count": 27,
   "id": "665804ee",
   "metadata": {},
   "outputs": [
    {
     "name": "stdout",
     "output_type": "stream",
     "text": [
      "90\n",
      "70\n",
      "5\n",
      "\n"
     ]
    }
   ],
   "source": [
    "ll.remove_node(5675)\n",
    "print(ll.stringify_list())"
   ]
  },
  {
   "cell_type": "code",
   "execution_count": null,
   "id": "3aa01944",
   "metadata": {},
   "outputs": [],
   "source": []
  }
 ],
 "metadata": {
  "kernelspec": {
   "display_name": "Python 3",
   "language": "python",
   "name": "python3"
  },
  "language_info": {
   "codemirror_mode": {
    "name": "ipython",
    "version": 3
   },
   "file_extension": ".py",
   "mimetype": "text/x-python",
   "name": "python",
   "nbconvert_exporter": "python",
   "pygments_lexer": "ipython3",
   "version": "3.8.8"
  }
 },
 "nbformat": 4,
 "nbformat_minor": 5
}
