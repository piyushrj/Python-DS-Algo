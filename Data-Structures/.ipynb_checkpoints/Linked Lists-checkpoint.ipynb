{
 "cells": [
  {
   "cell_type": "markdown",
   "id": "0d0cdd3d",
   "metadata": {},
   "source": [
    "# Linked Lists \n",
    "\n",
    "1. One of the basic data structures, often used as the basis for many other data structures. \n",
    "\n",
    "\n",
    "2. Each node in a linked list, in addition to containing its data, stores the pointer (link) to the next node in the list. \n",
    "    * The head node is the node at the beginning of the list.\n",
    "    * The list is terminated when a node's link is null. The last node is called the tail node. \n",
    "    \n",
    "    \n",
    "3. Since the nodes store the links to the next node in the sequence, the nodes are not required to be sequentially located in memory. \n",
    "\n",
    "\n",
    "4. The common operations on a linked list may include -\n",
    "    * Adding nodes\n",
    "    * Removing nodes\n",
    "    * Finding nodes\n",
    "    * Traversing the linked list"
   ]
  },
  {
   "cell_type": "markdown",
   "id": "2aca53b5",
   "metadata": {},
   "source": [
    "## Creating a Linked List class"
   ]
  },
  {
   "cell_type": "markdown",
   "id": "da761c46",
   "metadata": {},
   "source": [
    "First, let's create a Node class."
   ]
  },
  {
   "cell_type": "code",
   "execution_count": 1,
   "id": "3b9a7a63",
   "metadata": {},
   "outputs": [],
   "source": [
    "class Node:\n",
    "    def __init__(self, value, next_node=None):\n",
    "        self.value = value\n",
    "        self.next_node = next_node\n",
    "    \n",
    "    def get_value(self):\n",
    "        return self.value\n",
    "    \n",
    "    def get_next_node(self):\n",
    "        return self.next_node\n",
    "    \n",
    "    def set_next_node(self, next_node):\n",
    "        self.next_node = next_node"
   ]
  },
  {
   "cell_type": "markdown",
   "id": "07e8c0bd",
   "metadata": {},
   "source": [
    "Depending upon the usage a variety of methods and instance variables can be used. Let's create a linked list that allows us to -  \n",
    "* Get the head node of the list (peeking the first element)\n",
    "* Add a node to the beginning of the list\n",
    "* Print the values in order\n",
    "* Remove a node that has a particular value"
   ]
  },
  {
   "cell_type": "code",
   "execution_count": 2,
   "id": "b36899db",
   "metadata": {},
   "outputs": [],
   "source": [
    "class LinkedList:\n",
    "    def __init__(self, value=None):\n",
    "        self.head_node = Node(value)\n",
    "    \n",
    "    def get_head_node(self):\n",
    "        return self.head_node\n",
    "    \n",
    "    def insert_beginning(self, new_value):\n",
    "        new_node = Node(new_value)\n",
    "        new_node.set_next_node(self.head_node)\n",
    "        self.head_node = new_node\n",
    "        \n",
    "    def stringify_list(self):\n",
    "        s = \"\"\n",
    "        curr_node = self.get_head_node()\n",
    "        while (curr_node is not None):\n",
    "            s += str(curr_node.get_value()) + \"\\n\"\n",
    "            curr_node = curr_node.get_next_node()\n",
    "        return s\n",
    "    \n",
    "    def remove_node(self, value_to_remove):\n",
    "        curr_node = self.get_head_node()\n",
    "        \n",
    "        # check if the node to remove is the head node\n",
    "        if curr_node.get_value() == value_to_remove:\n",
    "            self.head_node = curr_node.get_next_node()\n",
    "        else:\n",
    "            # traverse through the list to find the node to remove\n",
    "            while(curr_node):\n",
    "                if curr_node.get_next_node().get_value() == value_to_remove:\n",
    "                    # remove the node\n",
    "                    curr_node.set_next_node(curr_node.get_next_node().get_next_node())\n",
    "                    curr_node = None\n",
    "                else:\n",
    "                    curr_node = curr_node.get_next_node()\n",
    "                    "
   ]
  },
  {
   "cell_type": "markdown",
   "id": "e0509c88",
   "metadata": {},
   "source": [
    "Let's implement the above linked list."
   ]
  },
  {
   "cell_type": "code",
   "execution_count": 3,
   "id": "0dee7967",
   "metadata": {},
   "outputs": [
    {
     "name": "stdout",
     "output_type": "stream",
     "text": [
      "90\n",
      "5675\n",
      "70\n",
      "5\n",
      "\n"
     ]
    }
   ],
   "source": [
    "ll = LinkedList(5)\n",
    "ll.insert_beginning(70)\n",
    "ll.insert_beginning(5675)\n",
    "ll.insert_beginning(90)\n",
    "print(ll.stringify_list())"
   ]
  },
  {
   "cell_type": "code",
   "execution_count": 4,
   "id": "665804ee",
   "metadata": {},
   "outputs": [
    {
     "name": "stdout",
     "output_type": "stream",
     "text": [
      "90\n",
      "70\n",
      "5\n",
      "\n"
     ]
    }
   ],
   "source": [
    "ll.remove_node(5675)\n",
    "print(ll.stringify_list())"
   ]
  },
  {
   "cell_type": "markdown",
   "id": "8c1205ba",
   "metadata": {},
   "source": [
    "## Swapping elements in a Linked List"
   ]
  },
  {
   "cell_type": "code",
   "execution_count": 5,
   "id": "0593fc1e",
   "metadata": {},
   "outputs": [],
   "source": [
    "def swap_nodes(input_list, val1, val2):\n",
    "    node1 = input_list.head_node\n",
    "    node2 = input_list.head_node\n",
    "    node1_prev = None\n",
    "    node2_prev = None\n",
    "    \n",
    "    # check if the swap is even required\n",
    "    if val1 == val2:\n",
    "        print(\"Equal elements no need to swap\")\n",
    "        return\n",
    "    \n",
    "    # find node1 and node1_prev\n",
    "    while node1 is not None:\n",
    "        if node1.get_value() == val1:\n",
    "            break\n",
    "        node1_prev = node1\n",
    "        node1 = node1.get_next_node()\n",
    "    \n",
    "    # find node2 and node2_prev\n",
    "    while node2 is not None:\n",
    "        if node2.get_value() == val2:\n",
    "            break\n",
    "        node2_prev = node2\n",
    "        node2 = node2.get_next_node()\n",
    "    \n",
    "    # check if the swap is possible\n",
    "    if (node1 is None) or (node2 is None):\n",
    "        print(\"One or more values not found. Can't swap\")\n",
    "        return\n",
    "    \n",
    "    # point node1_prev to node2\n",
    "    if node1_prev is None:\n",
    "        input_list.head_node = node2\n",
    "    else:\n",
    "        node1_prev.set_next_node(node2)\n",
    "    \n",
    "    # point node2_prev to node1\n",
    "    if node2_prev is None:\n",
    "        input_list.head_node = node1\n",
    "    else:\n",
    "        node2_prev.set_next_node(node1)\n",
    "        \n",
    "    # node1's next and node2's next\n",
    "    temp = node1.get_next_node()\n",
    "    node1.set_next_node(node2.get_next_node())\n",
    "    node2.set_next_node(temp)"
   ]
  },
  {
   "cell_type": "code",
   "execution_count": 6,
   "id": "5c3fd727",
   "metadata": {},
   "outputs": [
    {
     "name": "stdout",
     "output_type": "stream",
     "text": [
      "4\n",
      "3\n",
      "2\n",
      "1\n",
      "0\n",
      "\n"
     ]
    }
   ],
   "source": [
    "ll = LinkedList(0)\n",
    "ll.insert_beginning(1)\n",
    "ll.insert_beginning(2)\n",
    "ll.insert_beginning(3)\n",
    "ll.insert_beginning(4)\n",
    "print(ll.stringify_list())"
   ]
  },
  {
   "cell_type": "code",
   "execution_count": 7,
   "id": "4b733194",
   "metadata": {},
   "outputs": [
    {
     "name": "stdout",
     "output_type": "stream",
     "text": [
      "1\n",
      "3\n",
      "2\n",
      "4\n",
      "0\n",
      "\n"
     ]
    }
   ],
   "source": [
    "swap_nodes(ll, 1, 4)\n",
    "print(ll.stringify_list())"
   ]
  },
  {
   "cell_type": "markdown",
   "id": "88454fd8",
   "metadata": {},
   "source": [
    "## Two Pointers Linked List Technique"
   ]
  },
  {
   "cell_type": "markdown",
   "id": "d7fa967e",
   "metadata": {},
   "source": [
    "A number of sigly linked list problems can be solved by iterating with two pointers."
   ]
  },
  {
   "cell_type": "markdown",
   "id": "8d545988",
   "metadata": {},
   "source": [
    "### 1. Two pointers moving in parallel"
   ]
  },
  {
   "cell_type": "markdown",
   "id": "27c8c75a",
   "metadata": {},
   "source": [
    "Question - Create a method that returns the nth last element of a singly linked list."
   ]
  },
  {
   "cell_type": "markdown",
   "id": "11a5b176",
   "metadata": {},
   "source": [
    "* One way of doing this is to create a python list, iterate through the linked list and add each element to the new list. Then, to return the nth last element just do `new_list[-n]`. This method is fine, but it's O(n) in space complexity. That is, you needed to create another list of the same size. What happens if there are a million values in the linked list?\n",
    "\n",
    "\n",
    "\n",
    "* Alternatively, you can use two pointers method. Create two pointers, iterate through the linked list with one getting incremented for each iterationg and the other starts increamenting only after the nth iteration. Thus, when the first pointer comes to the end of the list, the second poniter will be lagging behind by n steps, giving you the nth node from the last node."
   ]
  },
  {
   "cell_type": "code",
   "execution_count": 8,
   "id": "8b0b0cda",
   "metadata": {},
   "outputs": [],
   "source": [
    "def get_nth_last_node(input_list, n):\n",
    "    tail_pointer = input_list.head_node\n",
    "    lagging_pointer = input_list.head_node\n",
    "    count = 1\n",
    "    while tail_pointer is not None:\n",
    "        if count > n:\n",
    "            lagging_pointer = lagging_pointer.get_next_node()\n",
    "        tail_pointer = tail_pointer.get_next_node()\n",
    "        count += 1\n",
    "    return lagging_pointer"
   ]
  },
  {
   "cell_type": "code",
   "execution_count": 9,
   "id": "eaf30759",
   "metadata": {},
   "outputs": [
    {
     "name": "stdout",
     "output_type": "stream",
     "text": [
      "4\n",
      "3\n",
      "2\n",
      "1\n",
      "0\n",
      "\n"
     ]
    }
   ],
   "source": [
    "ll = LinkedList(0)\n",
    "ll.insert_beginning(1)\n",
    "ll.insert_beginning(2)\n",
    "ll.insert_beginning(3)\n",
    "ll.insert_beginning(4)\n",
    "print(ll.stringify_list())"
   ]
  },
  {
   "cell_type": "code",
   "execution_count": 10,
   "id": "3bdff03f",
   "metadata": {},
   "outputs": [
    {
     "data": {
      "text/plain": [
       "1"
      ]
     },
     "execution_count": 10,
     "metadata": {},
     "output_type": "execute_result"
    }
   ],
   "source": [
    "get_nth_last_node(ll, 2).get_value()"
   ]
  },
  {
   "cell_type": "markdown",
   "id": "204f1403",
   "metadata": {},
   "source": [
    "### 2. Pointers at different speeds"
   ]
  },
  {
   "cell_type": "markdown",
   "id": "8d91b83b",
   "metadata": {},
   "source": [
    "Some problems may require you to move the pointers at different rates. For example, Create a method that returns the middle node of a linked list."
   ]
  },
  {
   "cell_type": "markdown",
   "id": "8e4241b7",
   "metadata": {},
   "source": [
    "* Again, you can create a copy of the linked list in a python list and return the value at the index length/2. But, it takes a lot of space, O(n). \n",
    "\n",
    "\n",
    "* Alternatively, you can create two pointers, one moving twice as fast at the other. When the faster pointer reaches the end of the list, the slower pointer will be at the middle node."
   ]
  },
  {
   "cell_type": "code",
   "execution_count": 11,
   "id": "d6afd49f",
   "metadata": {},
   "outputs": [],
   "source": [
    "def find_middle(input_list):\n",
    "    fast_pointer = input_list.head_node\n",
    "    slow_pointer = input_list.head_node\n",
    "    while fast_pointer is not None:\n",
    "        fast_pointer = fast_pointer.get_next_node()\n",
    "        if fast_pointer is not None:\n",
    "            fast_pointer = fast_pointer.get_next_node()\n",
    "            slow_pointer = slow_pointer.get_next_node()\n",
    "            \n",
    "    return slow_pointer"
   ]
  },
  {
   "cell_type": "code",
   "execution_count": 12,
   "id": "9ed042ed",
   "metadata": {},
   "outputs": [
    {
     "name": "stdout",
     "output_type": "stream",
     "text": [
      "4\n",
      "3\n",
      "2\n",
      "1\n",
      "0\n",
      "\n"
     ]
    }
   ],
   "source": [
    "ll = LinkedList(0)\n",
    "ll.insert_beginning(1)\n",
    "ll.insert_beginning(2)\n",
    "ll.insert_beginning(3)\n",
    "ll.insert_beginning(4)\n",
    "print(ll.stringify_list())"
   ]
  },
  {
   "cell_type": "code",
   "execution_count": 13,
   "id": "4a10d497",
   "metadata": {},
   "outputs": [
    {
     "data": {
      "text/plain": [
       "2"
      ]
     },
     "execution_count": 13,
     "metadata": {},
     "output_type": "execute_result"
    }
   ],
   "source": [
    "find_middle(ll).get_value()"
   ]
  },
  {
   "cell_type": "code",
   "execution_count": null,
   "id": "4ef05740",
   "metadata": {},
   "outputs": [],
   "source": []
  }
 ],
 "metadata": {
  "kernelspec": {
   "display_name": "Python 3",
   "language": "python",
   "name": "python3"
  },
  "language_info": {
   "codemirror_mode": {
    "name": "ipython",
    "version": 3
   },
   "file_extension": ".py",
   "mimetype": "text/x-python",
   "name": "python",
   "nbconvert_exporter": "python",
   "pygments_lexer": "ipython3",
   "version": "3.8.8"
  }
 },
 "nbformat": 4,
 "nbformat_minor": 5
}
