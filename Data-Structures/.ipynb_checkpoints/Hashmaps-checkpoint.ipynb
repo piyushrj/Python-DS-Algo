{
 "cells": [
  {
   "cell_type": "markdown",
   "id": "556f8194",
   "metadata": {},
   "source": [
    "## Hashmaps"
   ]
  },
  {
   "cell_type": "markdown",
   "id": "289377e5",
   "metadata": {},
   "source": [
    "1. Hashmaps represents a map from a set of keys to a set of value.\n",
    "    * They are a key-value storage with fast assignment and lookup.\n",
    "    * Built on top of an array using special indexing.\n",
    "\n",
    "\n",
    "2. A hash function is used to convert the key into a hash code, which is then convered (for example, hash code % size) to array index at which the value is stored. `Key -> Hash Function -> Hash Code -> Hash Code % size -> array index -> assign value to that index`\n",
    "    * A hash function can take string or any type of data as input and produces a hash code as output.\n",
    "    * Example of a simple hash function -> `count of 'a' + count of 'e'` in the input key\n",
    "    * Different keys can result in the same hash value. Thus hashing is a non-reversible process, you cannot get the key from the hash code.\n",
    "    * The hash function needs to be computationally simple, since hashing is performed everytime you assign or retrieve a value from a hashmap.\n",
    "\n",
    "\n",
    "3. Collisions - When hash function produces the same hash value for different keys. There are several strategies to resolve hash collisions.\n",
    "    * **Separate Chaining** - Avoids collisions by updating the underlying datastructure from array of values to array of linked lists.\n",
    "        * If the value at the array index is empty - Create new linked list at that index with first element as the key's value.\n",
    "        * If there is already a linked list at the array index - Append the value to that linked list.\n",
    "        * You also need to save the key along with the value, this is required when you retrieve the value for a given key. \n",
    "        `Key -> Hash Code -> array index -> Iterate over the linked list at the index to find the value with matching key`\n",
    "        * Separate chaining is effective for hash functions that are particularly good at giving unique indices so that the linked list never gets very long.\n",
    "        \n",
    "    * **Open Addressing** - We stick to the array as the underlying data structure. When a collision is found, we continue looking for a new index until an empty index is found to save our data.\n",
    "        * One of the methods of open addressing is Linear Probing. Here, we linearing update the array index till an empty index if found.\n",
    "        * We also save the key which helps during retrieval. When looking up for a value, check if the key at the resulting index matches your key. If yes, then return it. If no, then keep probing (move to the next index) till you find your matching key.\n",
    "        * There are other complicated methods for open addressing as well, for example, quadratic probing, etc."
   ]
  },
  {
   "cell_type": "markdown",
   "id": "521bb79f",
   "metadata": {},
   "source": [
    "## Creating a Hashmap class"
   ]
  },
  {
   "cell_type": "markdown",
   "id": "c618bd66",
   "metadata": {},
   "source": [
    "Let's create a Hashmap class in Python that uses Open Addressing for collision resolution."
   ]
  },
  {
   "cell_type": "markdown",
   "id": "ff9b6e0a",
   "metadata": {},
   "source": [
    "### Hashmap using Open Adressing"
   ]
  },
  {
   "cell_type": "markdown",
   "id": "c3d25ebf",
   "metadata": {},
   "source": [
    "The underlying data structure is an array. We will be using a Python list to simualte the underlying array for this hashmap class."
   ]
  },
  {
   "cell_type": "code",
   "execution_count": 1,
   "id": "ceb7d183",
   "metadata": {},
   "outputs": [],
   "source": [
    "class Hashmap:\n",
    "    def __init__(self, array_size):\n",
    "        self.array_size = array_size\n",
    "        self.array = [None for i in range(array_size)]\n",
    "    \n",
    "    def hash(self, key, count_collisions=0):\n",
    "        # convert key to a list of bytes\n",
    "        key_bytes = key.encode()\n",
    "        # convert the list of bytes to a hash code\n",
    "        hash_code = sum(key_bytes)\n",
    "        return hash_code+count_collisions\n",
    "    \n",
    "    def compressor(self, hash_code):\n",
    "        return hash_code % self.array_size\n",
    "    \n",
    "    def assign(self, key, value):\n",
    "        array_index = self.compressor(self.hash(key))\n",
    "        current_array_value = self.array[array_index]\n",
    "        if current_array_value == None:\n",
    "            self.array[array_index] = [key, value]\n",
    "            return\n",
    "        \n",
    "        if current_array_value[0] == key:\n",
    "            self.array[array_index] = [key, value]\n",
    "            return\n",
    "        \n",
    "        if current_array_value[0] != key:\n",
    "            number_collisions = 1\n",
    "            while current_array_value[0] != key:\n",
    "                new_hash_code = self.hash(key, number_collisions)\n",
    "                new_array_index = self.compressor(new_hash_code)\n",
    "                current_array_value = self.array[new_array_index]\n",
    "                if current_array_value == None:\n",
    "                    self.array[new_array_index] = [key, value]\n",
    "                    return\n",
    "                if current_array_value[0] == key:\n",
    "                    self.array[new_array_index] = [key, value]\n",
    "                    return\n",
    "                if current_array_value[0] != key:\n",
    "                    number_collisions += 1\n",
    "            \n",
    "    \n",
    "    def retrieve(self, key):\n",
    "        array_index = self.compressor(self.hash(key))\n",
    "        possible_return_value = self.array[array_index]\n",
    "        if possible_return_value == None:\n",
    "            return None\n",
    "        if possible_return_value[0] == key:\n",
    "            return possible_return_value[1]\n",
    "        if possible_return_value[0] != key:\n",
    "            retrieval_collisions = 1\n",
    "            while possible_return_value[0] != key:\n",
    "                new_hash_code = self.hash(key, retrieval_collisions)\n",
    "                retrieving_array_index = self.compressor(new_hash_code)\n",
    "                possible_return_value = self.array[retrieving_array_index]\n",
    "                if possible_return_value == None:\n",
    "                    return None\n",
    "                if possible_return_value[0] == key:\n",
    "                    return possible_return_value[1]\n",
    "                if possible_return_value[0] != key:\n",
    "                    retrieval_collisions += 1\n",
    "        "
   ]
  },
  {
   "cell_type": "code",
   "execution_count": 2,
   "id": "2ee35303",
   "metadata": {},
   "outputs": [],
   "source": [
    "a = Hashmap(15)"
   ]
  },
  {
   "cell_type": "code",
   "execution_count": 3,
   "id": "499eccc2",
   "metadata": {},
   "outputs": [],
   "source": [
    "a.assign(\"Virat Kohli\", \"India\")\n",
    "a.assign(\"Steve Smith\", \"Australia\")\n",
    "a.assign(\"Kane Williamson\", \"New Zealand\")\n",
    "a.assign(\"Joe Root\", \"England\")"
   ]
  },
  {
   "cell_type": "code",
   "execution_count": 4,
   "id": "151b4947",
   "metadata": {},
   "outputs": [
    {
     "data": {
      "text/plain": [
       "'India'"
      ]
     },
     "execution_count": 4,
     "metadata": {},
     "output_type": "execute_result"
    }
   ],
   "source": [
    "a.retrieve(\"Virat Kohli\")"
   ]
  },
  {
   "cell_type": "code",
   "execution_count": 5,
   "id": "d6286626",
   "metadata": {},
   "outputs": [
    {
     "data": {
      "text/plain": [
       "'England'"
      ]
     },
     "execution_count": 5,
     "metadata": {},
     "output_type": "execute_result"
    }
   ],
   "source": [
    "a.retrieve(\"Joe Root\")"
   ]
  },
  {
   "cell_type": "markdown",
   "id": "6f5d8a79",
   "metadata": {},
   "source": [
    "### Hashmap using Separate Chaining"
   ]
  },
  {
   "cell_type": "markdown",
   "id": "a48c4e08",
   "metadata": {},
   "source": [
    "First, let's add Node and LinkedList classes."
   ]
  },
  {
   "cell_type": "code",
   "execution_count": 6,
   "id": "2c16071a",
   "metadata": {},
   "outputs": [],
   "source": [
    "class Node:\n",
    "    def __init__(self, value, next_node=None):\n",
    "        self.value = value\n",
    "        self.next_node = next_node\n",
    "    \n",
    "    def get_value(self):\n",
    "        return self.value\n",
    "    \n",
    "    def get_next_node(self):\n",
    "        return self.next_node\n",
    "    \n",
    "    def set_next_node(self, next_node):\n",
    "        self.next_node = next_node"
   ]
  },
  {
   "cell_type": "code",
   "execution_count": 7,
   "id": "d2594e11",
   "metadata": {},
   "outputs": [],
   "source": [
    "class LinkedList:\n",
    "    def __init__(self, head_node=None):\n",
    "        self.head_node = head_node\n",
    "  \n",
    "    def insert(self, new_node):\n",
    "        current_node = self.head_node\n",
    "        if not current_node:\n",
    "            self.head_node = new_node\n",
    "        while(current_node):\n",
    "            next_node = current_node.get_next_node()\n",
    "            if not next_node:\n",
    "                current_node.set_next_node(new_node)\n",
    "            current_node = next_node\n",
    "\n",
    "    def __iter__(self):\n",
    "        current_node = self.head_node\n",
    "        while(current_node):\n",
    "            yield current_node.get_value()\n",
    "            current_node = current_node.get_next_node()"
   ]
  },
  {
   "cell_type": "markdown",
   "id": "e01827e3",
   "metadata": {},
   "source": [
    "Let's create a Hashmap class in Python that uses Separate Chaining for collision resolution."
   ]
  },
  {
   "cell_type": "code",
   "execution_count": 8,
   "id": "431d3498",
   "metadata": {},
   "outputs": [],
   "source": [
    "class Hashmap2:\n",
    "    def __init__(self, size):\n",
    "        self.size = size\n",
    "        self.array = [LinkedList() for i in range(size)]\n",
    "    \n",
    "    def hash(self, key):\n",
    "        # convert key to a list of bytes\n",
    "        key_bytes = key.encode()\n",
    "        # convert the list of bytes to a hash code\n",
    "        hash_code = sum(key_bytes)\n",
    "        return hash_code\n",
    "    \n",
    "    def compressor(self, hash_code):\n",
    "        return hash_code % self.size\n",
    "    \n",
    "    def assign(self, key, value):\n",
    "        array_index = self.compressor(self.hash(key))\n",
    "        payload = Node([key, value])\n",
    "        list_at_array = self.array[array_index]\n",
    "        for item in list_at_array:\n",
    "            if key == item[0]:\n",
    "                item[1] = value\n",
    "                return\n",
    "        # if the key doesn't exist then insert a node for the key-value pair \n",
    "        list_at_array.insert(payload)\n",
    "        \n",
    "    def retrieve(self, key):\n",
    "        array_index = self.compressor(self.hash(key))\n",
    "        list_at_array = self.array[array_index]\n",
    "        for item in list_at_array:\n",
    "            if key == item[0]:\n",
    "                return item[1]\n",
    "        \n",
    "        return"
   ]
  },
  {
   "cell_type": "code",
   "execution_count": 9,
   "id": "d94424dc",
   "metadata": {},
   "outputs": [],
   "source": [
    "b = Hashmap2(15)"
   ]
  },
  {
   "cell_type": "code",
   "execution_count": 10,
   "id": "8ede4168",
   "metadata": {},
   "outputs": [],
   "source": [
    "b.assign(\"Virat Kohli\", \"India\")\n",
    "b.assign(\"Steve Smith\", \"Australia\")\n",
    "b.assign(\"Kane Williamson\", \"New Zealand\")\n",
    "b.assign(\"Joe Root\", \"England\")"
   ]
  },
  {
   "cell_type": "code",
   "execution_count": 11,
   "id": "dbc5af00",
   "metadata": {},
   "outputs": [
    {
     "data": {
      "text/plain": [
       "'India'"
      ]
     },
     "execution_count": 11,
     "metadata": {},
     "output_type": "execute_result"
    }
   ],
   "source": [
    "b.retrieve(\"Virat Kohli\")"
   ]
  },
  {
   "cell_type": "code",
   "execution_count": 12,
   "id": "f0a531e4",
   "metadata": {},
   "outputs": [
    {
     "data": {
      "text/plain": [
       "'England'"
      ]
     },
     "execution_count": 12,
     "metadata": {},
     "output_type": "execute_result"
    }
   ],
   "source": [
    "b.retrieve(\"Joe Root\")"
   ]
  },
  {
   "cell_type": "code",
   "execution_count": null,
   "id": "059ef8a8",
   "metadata": {},
   "outputs": [],
   "source": []
  }
 ],
 "metadata": {
  "kernelspec": {
   "display_name": "Python 3",
   "language": "python",
   "name": "python3"
  },
  "language_info": {
   "codemirror_mode": {
    "name": "ipython",
    "version": 3
   },
   "file_extension": ".py",
   "mimetype": "text/x-python",
   "name": "python",
   "nbconvert_exporter": "python",
   "pygments_lexer": "ipython3",
   "version": "3.8.8"
  }
 },
 "nbformat": 4,
 "nbformat_minor": 5
}
