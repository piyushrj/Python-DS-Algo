{
 "cells": [
  {
   "cell_type": "markdown",
   "id": "a571231d",
   "metadata": {},
   "source": [
    "# Pattern Searching"
   ]
  },
  {
   "cell_type": "markdown",
   "id": "3668c077",
   "metadata": {},
   "source": [
    "In pattern searching, we try to find a pattern within a larger body of text."
   ]
  },
  {
   "cell_type": "markdown",
   "id": "dde19e91",
   "metadata": {},
   "source": [
    "## Naive Pattern Searching"
   ]
  },
  {
   "cell_type": "markdown",
   "id": "adbc96ef",
   "metadata": {},
   "source": [
    "1. Pattern searching requires two base components -\n",
    "    * A text to scan\n",
    "    * A pattern to search for\n",
    "    \n",
    "    \n",
    "2. For each character of the original text, we count the number of following characters that match the patter. If a disparity is found, we move on to the next letter of the text, but if the number of matching characters equals the length of the pattern, we have found the pattern.\n",
    "\n",
    "3. Naive pattern search is O(nk) in time complexity. For each character in the original text we have to compare to compare it to every character in the pattern one-by-one before moving further along the text. The performance approaches the slow O(n^2)."
   ]
  },
  {
   "cell_type": "code",
   "execution_count": 1,
   "id": "f65eb84a",
   "metadata": {},
   "outputs": [],
   "source": [
    "def pattern_search(text, pattern):\n",
    "    for i in range(len(text)):\n",
    "        match_counts = 0\n",
    "        for j in range(len(pattern)):\n",
    "            if pattern[j] == text[i+j]:\n",
    "                match_counts += 1\n",
    "            else:\n",
    "                break\n",
    "        if match_counts == len(pattern):\n",
    "            print(\"Match for {} found at index {}\".format(pattern, i))"
   ]
  },
  {
   "cell_type": "code",
   "execution_count": 2,
   "id": "73512508",
   "metadata": {},
   "outputs": [
    {
     "name": "stdout",
     "output_type": "stream",
     "text": [
      "Match for be found at index 3\n",
      "Match for be found at index 16\n"
     ]
    }
   ],
   "source": [
    "s = \"to be or not to be\"\n",
    "pattern_search(s, \"be\")"
   ]
  },
  {
   "cell_type": "code",
   "execution_count": null,
   "id": "bf02c149",
   "metadata": {},
   "outputs": [],
   "source": []
  }
 ],
 "metadata": {
  "kernelspec": {
   "display_name": "Python 3",
   "language": "python",
   "name": "python3"
  },
  "language_info": {
   "codemirror_mode": {
    "name": "ipython",
    "version": 3
   },
   "file_extension": ".py",
   "mimetype": "text/x-python",
   "name": "python",
   "nbconvert_exporter": "python",
   "pygments_lexer": "ipython3",
   "version": "3.8.8"
  }
 },
 "nbformat": 4,
 "nbformat_minor": 5
}
