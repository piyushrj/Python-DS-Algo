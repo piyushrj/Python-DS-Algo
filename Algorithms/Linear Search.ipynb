{
 "cells": [
  {
   "cell_type": "markdown",
   "id": "507fe4d5",
   "metadata": {},
   "source": [
    "# Linear Search"
   ]
  },
  {
   "cell_type": "markdown",
   "id": "617d2395",
   "metadata": {},
   "source": [
    "1. Linear search sequentially searches for the target value in the array/list by comparing each element in the list with the target value one-by-one.\n",
    "2. The time complexity of linear search is O(N).\n",
    "    * Best Case - If the target is the first element of the list then the algorithm requires just one comparison. Thus, O(1).\n",
    "    * Average Case - The algorithm makes N/2 comparisons - O(N)\n",
    "    * Worst Case - When the target is present at the end of the list or is not present in the list - O(N).\n",
    " \n",
    "\n",
    "3. Linear search is a good choice when you expect the target value to be positioned near the beginning of the list. It also doesn't require any additional space. It is O(1) in space complexity."
   ]
  },
  {
   "cell_type": "code",
   "execution_count": 1,
   "id": "744398b9",
   "metadata": {},
   "outputs": [],
   "source": [
    "def linear_search(ls, target_value):\n",
    "    for i in range(len(ls)):\n",
    "        if ls[i] == target_value:\n",
    "            return i\n",
    "    raise ValueError(\"{} not in list\".format(target_value))"
   ]
  },
  {
   "cell_type": "code",
   "execution_count": 2,
   "id": "07778e9f",
   "metadata": {},
   "outputs": [
    {
     "data": {
      "text/plain": [
       "4"
      ]
     },
     "execution_count": 2,
     "metadata": {},
     "output_type": "execute_result"
    }
   ],
   "source": [
    "arr = [2, 6, 1, 3, 5, 13]\n",
    "linear_search(arr, 5)"
   ]
  },
  {
   "cell_type": "code",
   "execution_count": 3,
   "id": "bdd05367",
   "metadata": {},
   "outputs": [
    {
     "ename": "ValueError",
     "evalue": "7 not in list",
     "output_type": "error",
     "traceback": [
      "\u001b[1;31m---------------------------------------------------------------------------\u001b[0m",
      "\u001b[1;31mValueError\u001b[0m                                Traceback (most recent call last)",
      "\u001b[1;32m<ipython-input-3-e19df63a3204>\u001b[0m in \u001b[0;36m<module>\u001b[1;34m\u001b[0m\n\u001b[1;32m----> 1\u001b[1;33m \u001b[0mlinear_search\u001b[0m\u001b[1;33m(\u001b[0m\u001b[0marr\u001b[0m\u001b[1;33m,\u001b[0m \u001b[1;36m7\u001b[0m\u001b[1;33m)\u001b[0m\u001b[1;33m\u001b[0m\u001b[1;33m\u001b[0m\u001b[0m\n\u001b[0m",
      "\u001b[1;32m<ipython-input-1-aa5390f3f59c>\u001b[0m in \u001b[0;36mlinear_search\u001b[1;34m(ls, target_value)\u001b[0m\n\u001b[0;32m      3\u001b[0m         \u001b[1;32mif\u001b[0m \u001b[0mls\u001b[0m\u001b[1;33m[\u001b[0m\u001b[0mi\u001b[0m\u001b[1;33m]\u001b[0m \u001b[1;33m==\u001b[0m \u001b[0mtarget_value\u001b[0m\u001b[1;33m:\u001b[0m\u001b[1;33m\u001b[0m\u001b[1;33m\u001b[0m\u001b[0m\n\u001b[0;32m      4\u001b[0m             \u001b[1;32mreturn\u001b[0m \u001b[0mi\u001b[0m\u001b[1;33m\u001b[0m\u001b[1;33m\u001b[0m\u001b[0m\n\u001b[1;32m----> 5\u001b[1;33m     \u001b[1;32mraise\u001b[0m \u001b[0mValueError\u001b[0m\u001b[1;33m(\u001b[0m\u001b[1;34m\"{} not in list\"\u001b[0m\u001b[1;33m.\u001b[0m\u001b[0mformat\u001b[0m\u001b[1;33m(\u001b[0m\u001b[0mtarget_value\u001b[0m\u001b[1;33m)\u001b[0m\u001b[1;33m)\u001b[0m\u001b[1;33m\u001b[0m\u001b[1;33m\u001b[0m\u001b[0m\n\u001b[0m",
      "\u001b[1;31mValueError\u001b[0m: 7 not in list"
     ]
    }
   ],
   "source": [
    "linear_search(arr, 7)"
   ]
  },
  {
   "cell_type": "markdown",
   "id": "841be266",
   "metadata": {},
   "source": [
    "Use linear search to return all occurences of the target element."
   ]
  },
  {
   "cell_type": "code",
   "execution_count": 4,
   "id": "f9763e34",
   "metadata": {},
   "outputs": [],
   "source": [
    "def linear_search(ls, target_value):\n",
    "    result = []\n",
    "    for i in range(len(ls)):\n",
    "        if ls[i] == target_value:\n",
    "            result.append(i)\n",
    "    \n",
    "    if len(result) > 0:\n",
    "        return result\n",
    "    else:\n",
    "        raise ValueError(\"{} not in list\".format(target_value))"
   ]
  },
  {
   "cell_type": "code",
   "execution_count": 5,
   "id": "9318241d",
   "metadata": {},
   "outputs": [
    {
     "data": {
      "text/plain": [
       "[4, 6]"
      ]
     },
     "execution_count": 5,
     "metadata": {},
     "output_type": "execute_result"
    }
   ],
   "source": [
    "arr = [2, 6, 1, 3, 5, 13, 5]\n",
    "linear_search(arr, 5)"
   ]
  },
  {
   "cell_type": "code",
   "execution_count": 6,
   "id": "87262af9",
   "metadata": {},
   "outputs": [
    {
     "ename": "ValueError",
     "evalue": "7 not in list",
     "output_type": "error",
     "traceback": [
      "\u001b[1;31m---------------------------------------------------------------------------\u001b[0m",
      "\u001b[1;31mValueError\u001b[0m                                Traceback (most recent call last)",
      "\u001b[1;32m<ipython-input-6-ef4d33404458>\u001b[0m in \u001b[0;36m<module>\u001b[1;34m\u001b[0m\n\u001b[0;32m      1\u001b[0m \u001b[0marr\u001b[0m \u001b[1;33m=\u001b[0m \u001b[1;33m[\u001b[0m\u001b[1;36m2\u001b[0m\u001b[1;33m,\u001b[0m \u001b[1;36m6\u001b[0m\u001b[1;33m,\u001b[0m \u001b[1;36m1\u001b[0m\u001b[1;33m,\u001b[0m \u001b[1;36m3\u001b[0m\u001b[1;33m,\u001b[0m \u001b[1;36m5\u001b[0m\u001b[1;33m,\u001b[0m \u001b[1;36m13\u001b[0m\u001b[1;33m,\u001b[0m \u001b[1;36m5\u001b[0m\u001b[1;33m]\u001b[0m\u001b[1;33m\u001b[0m\u001b[1;33m\u001b[0m\u001b[0m\n\u001b[1;32m----> 2\u001b[1;33m \u001b[0mlinear_search\u001b[0m\u001b[1;33m(\u001b[0m\u001b[0marr\u001b[0m\u001b[1;33m,\u001b[0m \u001b[1;36m7\u001b[0m\u001b[1;33m)\u001b[0m\u001b[1;33m\u001b[0m\u001b[1;33m\u001b[0m\u001b[0m\n\u001b[0m",
      "\u001b[1;32m<ipython-input-4-453064d27da7>\u001b[0m in \u001b[0;36mlinear_search\u001b[1;34m(ls, target_value)\u001b[0m\n\u001b[0;32m      8\u001b[0m         \u001b[1;32mreturn\u001b[0m \u001b[0mresult\u001b[0m\u001b[1;33m\u001b[0m\u001b[1;33m\u001b[0m\u001b[0m\n\u001b[0;32m      9\u001b[0m     \u001b[1;32melse\u001b[0m\u001b[1;33m:\u001b[0m\u001b[1;33m\u001b[0m\u001b[1;33m\u001b[0m\u001b[0m\n\u001b[1;32m---> 10\u001b[1;33m         \u001b[1;32mraise\u001b[0m \u001b[0mValueError\u001b[0m\u001b[1;33m(\u001b[0m\u001b[1;34m\"{} not in list\"\u001b[0m\u001b[1;33m.\u001b[0m\u001b[0mformat\u001b[0m\u001b[1;33m(\u001b[0m\u001b[0mtarget_value\u001b[0m\u001b[1;33m)\u001b[0m\u001b[1;33m)\u001b[0m\u001b[1;33m\u001b[0m\u001b[1;33m\u001b[0m\u001b[0m\n\u001b[0m",
      "\u001b[1;31mValueError\u001b[0m: 7 not in list"
     ]
    }
   ],
   "source": [
    "arr = [2, 6, 1, 3, 5, 13, 5]\n",
    "linear_search(arr, 7)"
   ]
  },
  {
   "cell_type": "code",
   "execution_count": null,
   "id": "de331c2b",
   "metadata": {},
   "outputs": [],
   "source": []
  }
 ],
 "metadata": {
  "kernelspec": {
   "display_name": "Python 3",
   "language": "python",
   "name": "python3"
  },
  "language_info": {
   "codemirror_mode": {
    "name": "ipython",
    "version": 3
   },
   "file_extension": ".py",
   "mimetype": "text/x-python",
   "name": "python",
   "nbconvert_exporter": "python",
   "pygments_lexer": "ipython3",
   "version": "3.8.8"
  }
 },
 "nbformat": 4,
 "nbformat_minor": 5
}
