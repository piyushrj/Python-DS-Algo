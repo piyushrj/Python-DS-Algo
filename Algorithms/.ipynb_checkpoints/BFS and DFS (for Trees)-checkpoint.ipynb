{
 "cells": [
  {
   "cell_type": "markdown",
   "id": "1cd01dcf",
   "metadata": {},
   "source": [
    "# BFS and DFS (for Trees)"
   ]
  },
  {
   "cell_type": "markdown",
   "id": "1c02b184",
   "metadata": {},
   "source": [
    "First, let's create a TreeNode class"
   ]
  },
  {
   "cell_type": "code",
   "execution_count": 1,
   "id": "fe9f2552",
   "metadata": {},
   "outputs": [],
   "source": [
    "from collections import deque\n",
    "\n",
    "class TreeNode:\n",
    "    def __init__(self, value):\n",
    "        self.value = value\n",
    "        self.children = []\n",
    "    \n",
    "    def __str__(self):\n",
    "        stack = deque()\n",
    "        stack.append([self, 0])\n",
    "        level_str = \"\\n\"\n",
    "        while len(stack) > 0:\n",
    "            node, level = stack.pop()\n",
    "            if level > 0:\n",
    "                level_str += \"| \"*(level-1) + \"|-\"\n",
    "            level_str += str(node.value)\n",
    "            level_str += \"\\n\"\n",
    "            level += 1\n",
    "            for child in reversed(node.children):\n",
    "                stack.append([child, level])\n",
    "        \n",
    "        return level_str"
   ]
  },
  {
   "cell_type": "markdown",
   "id": "b01b84a3",
   "metadata": {},
   "source": [
    "## Breadth First Search"
   ]
  },
  {
   "cell_type": "markdown",
   "id": "ec944d30",
   "metadata": {},
   "source": [
    "1. Tree traversal algorithm that searches a tree level by level.\n",
    "2. The search starts at the root node and works its way through every sibling node on a level before moving deeper into the tree.\n",
    "3. Multiple ways to implement it (iterative/recursive).\n",
    "4. In the iterative approach it uses a queue to store the order in which to search for each node level by level."
   ]
  },
  {
   "cell_type": "markdown",
   "id": "ae8d8268",
   "metadata": {},
   "source": [
    "### Iterative approach"
   ]
  },
  {
   "cell_type": "code",
   "execution_count": 2,
   "id": "d99c3cc8",
   "metadata": {},
   "outputs": [],
   "source": [
    "from collections import deque\n",
    "\n",
    "def bfs(root_node, goal_value):\n",
    "    # use a queue\n",
    "    path_queue = deque()\n",
    "    initial_path = [root_node]\n",
    "    path_queue.appendleft(initial_path)\n",
    "    \n",
    "    # searching\n",
    "    while len(path_queue) > 0:\n",
    "        current_path = path_queue.pop()\n",
    "        current_node = current_path[-1]\n",
    "        print(\"Searching node with value {}\".format(current_node.value))\n",
    "        if current_node.value == goal_value:\n",
    "            return current_path\n",
    "        \n",
    "        # Add the child paths to the frontier\n",
    "        for child in current_node.children:\n",
    "            new_path = current_path.copy()\n",
    "            new_path.append(child)\n",
    "            path_queue.appendleft(new_path)\n",
    "        \n",
    "    return None"
   ]
  },
  {
   "cell_type": "markdown",
   "id": "c32e37c3",
   "metadata": {},
   "source": [
    "## Depth First Search"
   ]
  },
  {
   "cell_type": "markdown",
   "id": "ccacb623",
   "metadata": {},
   "source": [
    "1. Tree traversal algorithm begins at the root node and explores deeper into the until it reaches a leaf node only then will it backtrack up the tree. This process continues until the desired node is found, or all nodes have been discovered. \n",
    "2. Multile approaches - Iterative / Recursive (intuitive approach)\n",
    "3. In Depth-First Search we traverse the tree vertically, from parent to child, before exploring any siblings of that parent. The iterative appraoch maintains a stack of references to unexplored siblings of the nodes we have already accessed. \n",
    "4. If a search tree is very large, or infinite in size, the Depth-First Search algorithm may never halt.\n",
    "5. Applications - DFS can be used for searching for objects in a data structure like files in a file system."
   ]
  },
  {
   "cell_type": "markdown",
   "id": "0a58e9e6",
   "metadata": {},
   "source": [
    "### Recursive approach"
   ]
  },
  {
   "cell_type": "code",
   "execution_count": 3,
   "id": "6620acb4",
   "metadata": {},
   "outputs": [],
   "source": [
    "def dfs(root_node, goal_value, path=()):\n",
    "    path = path + (root_node,)\n",
    "    print(\"Searching node with value {}\".format(root_node.value))\n",
    "    if root_node.value == goal_value:\n",
    "        return path\n",
    "    \n",
    "    for child in root_node.children:\n",
    "        path_found = dfs(child, goal_value, path)\n",
    "        if path_found != None:\n",
    "            return path_found\n",
    "        \n",
    "    return None"
   ]
  },
  {
   "cell_type": "markdown",
   "id": "20ae1cd5",
   "metadata": {},
   "source": [
    "## Testing"
   ]
  },
  {
   "cell_type": "code",
   "execution_count": 4,
   "id": "9fdd8253",
   "metadata": {},
   "outputs": [],
   "source": [
    "sample_root_node = TreeNode(\"Home\")\n",
    "docs = TreeNode(\"Documents\")\n",
    "photos = TreeNode(\"Photos\")\n",
    "sample_root_node.children = [docs, photos]\n",
    "\n",
    "my_wish = TreeNode(\"WishList.txt\")\n",
    "my_todo = TreeNode(\"TodoList.txt\")\n",
    "my_cat = TreeNode(\"Fluffy.jpg\")\n",
    "my_dog = TreeNode(\"Spot.jpg\")\n",
    "\n",
    "docs.children = [my_wish, my_todo]\n",
    "photos.children = [my_cat, my_dog]"
   ]
  },
  {
   "cell_type": "code",
   "execution_count": 5,
   "id": "ceadea3e",
   "metadata": {},
   "outputs": [
    {
     "name": "stdout",
     "output_type": "stream",
     "text": [
      "\n",
      "Home\n",
      "|-Documents\n",
      "| |-WishList.txt\n",
      "| |-TodoList.txt\n",
      "|-Photos\n",
      "| |-Fluffy.jpg\n",
      "| |-Spot.jpg\n",
      "\n"
     ]
    }
   ],
   "source": [
    "# Write your code below. \n",
    "print(sample_root_node)"
   ]
  },
  {
   "cell_type": "code",
   "execution_count": 6,
   "id": "c9148151",
   "metadata": {},
   "outputs": [
    {
     "name": "stdout",
     "output_type": "stream",
     "text": [
      "Searching node with value Home\n",
      "Searching node with value Documents\n",
      "Searching node with value Photos\n",
      "Searching node with value WishList.txt\n",
      "Searching node with value TodoList.txt\n",
      "Searching node with value Fluffy.jpg\n",
      "Path found\n",
      "Home\n",
      "Photos\n",
      "Fluffy.jpg\n"
     ]
    }
   ],
   "source": [
    "goal_path = bfs(sample_root_node, \"Fluffy.jpg\")\n",
    "if goal_path is None:\n",
    "    print(\"No path found\")\n",
    "else:\n",
    "    print(\"Path found\")\n",
    "    for node in goal_path:\n",
    "        print(node.value)"
   ]
  },
  {
   "cell_type": "code",
   "execution_count": 7,
   "id": "9a35b9fd",
   "metadata": {},
   "outputs": [
    {
     "name": "stdout",
     "output_type": "stream",
     "text": [
      "Searching node with value Home\n",
      "Searching node with value Documents\n",
      "Searching node with value WishList.txt\n",
      "Searching node with value TodoList.txt\n",
      "Searching node with value Photos\n",
      "Searching node with value Fluffy.jpg\n",
      "Path found\n",
      "Home\n",
      "Photos\n",
      "Fluffy.jpg\n"
     ]
    }
   ],
   "source": [
    "goal_path = dfs(sample_root_node, \"Fluffy.jpg\")\n",
    "if goal_path is None:\n",
    "    print(\"No path found\")\n",
    "else:\n",
    "    print(\"Path found\")\n",
    "    for node in goal_path:\n",
    "        print(node.value)"
   ]
  },
  {
   "cell_type": "code",
   "execution_count": null,
   "id": "02f1cb91",
   "metadata": {},
   "outputs": [],
   "source": []
  }
 ],
 "metadata": {
  "kernelspec": {
   "display_name": "Python 3",
   "language": "python",
   "name": "python3"
  },
  "language_info": {
   "codemirror_mode": {
    "name": "ipython",
    "version": 3
   },
   "file_extension": ".py",
   "mimetype": "text/x-python",
   "name": "python",
   "nbconvert_exporter": "python",
   "pygments_lexer": "ipython3",
   "version": "3.8.8"
  }
 },
 "nbformat": 4,
 "nbformat_minor": 5
}
