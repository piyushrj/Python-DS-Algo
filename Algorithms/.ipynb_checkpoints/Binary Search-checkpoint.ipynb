{
 "cells": [
  {
   "cell_type": "markdown",
   "id": "9e2bf938",
   "metadata": {},
   "source": [
    "# Binary Search"
   ]
  },
  {
   "cell_type": "markdown",
   "id": "9321658a",
   "metadata": {},
   "source": [
    "1. Uses a Divide and Conquer technique to search elements in a sorted array.\n",
    "2. Worst case time complexity - O(log n)"
   ]
  },
  {
   "cell_type": "markdown",
   "id": "faa0441b",
   "metadata": {},
   "source": [
    "Iterative appraoch -"
   ]
  },
  {
   "cell_type": "code",
   "execution_count": 1,
   "id": "e6159120",
   "metadata": {},
   "outputs": [],
   "source": [
    "def binary_search(sorted_list, target):\n",
    "    left = 0\n",
    "    right = len(sorted_list)\n",
    "    \n",
    "    while left < right:\n",
    "        mid = (left + right) // 2\n",
    "        mid_val = sorted_list[mid]\n",
    "        \n",
    "        if target == mid_val:\n",
    "            return mid\n",
    "        elif target < mid:\n",
    "            right = mid - 1\n",
    "        elif target > mid:\n",
    "            left = mid + 1\n",
    "    \n",
    "    return None"
   ]
  },
  {
   "cell_type": "code",
   "execution_count": 2,
   "id": "f88ab27f",
   "metadata": {},
   "outputs": [
    {
     "name": "stdout",
     "output_type": "stream",
     "text": [
      "4\n"
     ]
    }
   ],
   "source": [
    "# For testing:\n",
    "sorted_values = [13, 14, 15, 16, 17]\n",
    "print(binary_search(sorted_values, 17))"
   ]
  },
  {
   "cell_type": "markdown",
   "id": "328c6bd2",
   "metadata": {},
   "source": [
    "Recursive approach"
   ]
  },
  {
   "cell_type": "code",
   "execution_count": 3,
   "id": "55c54117",
   "metadata": {},
   "outputs": [],
   "source": [
    "def binary_search(sorted_list, target):\n",
    "    # base case\n",
    "    if len(sorted_list) == 0:\n",
    "        return \"value not found\"\n",
    "    \n",
    "    # recursive step\n",
    "    mid_idx = len(sorted_list) // 2\n",
    "    mid_val = sorted_list[mid_idx]\n",
    "    \n",
    "    if target == mid_val:\n",
    "        return mid_idx\n",
    "    \n",
    "    if target < mid_val:\n",
    "        # we only care about the left half\n",
    "        left_half = sorted_list[:mid_idx]\n",
    "        return binary_search(left_half, target)\n",
    "    \n",
    "    if target > mid_val:\n",
    "        # we only care about the right half\n",
    "        right_half = sorted_list[mid_idx+1:]\n",
    "        result = binary_search(right_half, target)\n",
    "        return result + mid_idx + 1\n",
    "        "
   ]
  },
  {
   "cell_type": "code",
   "execution_count": 4,
   "id": "c87d6946",
   "metadata": {},
   "outputs": [
    {
     "name": "stdout",
     "output_type": "stream",
     "text": [
      "1\n"
     ]
    }
   ],
   "source": [
    "# For testing:\n",
    "sorted_values = [13, 14, 15, 16, 17]\n",
    "print(binary_search(sorted_values, 14))"
   ]
  },
  {
   "cell_type": "markdown",
   "id": "4d020fe9",
   "metadata": {},
   "source": [
    "The recursive implementation of binary search is O(n) in space complexity. This is because at each recursive step we are copying N/2 elements. We can used pointers to store the left and right indices."
   ]
  },
  {
   "cell_type": "code",
   "execution_count": 5,
   "id": "01e3232b",
   "metadata": {},
   "outputs": [],
   "source": [
    "def binary_search(sorted_list, left_pointer, right_pointer, target):\n",
    "    # base case\n",
    "    if left_pointer > right_pointer:\n",
    "        return \"value not found\"\n",
    "    \n",
    "    mid_idx = (left_pointer + right_pointer) // 2\n",
    "    mid_val = sorted_list[mid_idx]\n",
    "    \n",
    "    if target == mid_val:\n",
    "        return mid_idx\n",
    "    if target < mid_val:\n",
    "        # look in the left half\n",
    "        return binary_search(sorted_list, left_pointer, mid_idx, target)\n",
    "    if target > mid_val:\n",
    "        # look in the right half\n",
    "        return binary_search(sorted_list, mid_idx+1, right_pointer, target)"
   ]
  },
  {
   "cell_type": "code",
   "execution_count": 6,
   "id": "630bef38",
   "metadata": {},
   "outputs": [
    {
     "name": "stdout",
     "output_type": "stream",
     "text": [
      "4\n"
     ]
    }
   ],
   "source": [
    "# For testing:\n",
    "sorted_values = [13, 14, 15, 16, 17]\n",
    "print(binary_search(sorted_values, 0, len(sorted_values)-1, 17))"
   ]
  },
  {
   "cell_type": "code",
   "execution_count": null,
   "id": "6f3f0c64",
   "metadata": {},
   "outputs": [],
   "source": []
  }
 ],
 "metadata": {
  "kernelspec": {
   "display_name": "Python 3",
   "language": "python",
   "name": "python3"
  },
  "language_info": {
   "codemirror_mode": {
    "name": "ipython",
    "version": 3
   },
   "file_extension": ".py",
   "mimetype": "text/x-python",
   "name": "python",
   "nbconvert_exporter": "python",
   "pygments_lexer": "ipython3",
   "version": "3.8.8"
  }
 },
 "nbformat": 4,
 "nbformat_minor": 5
}
