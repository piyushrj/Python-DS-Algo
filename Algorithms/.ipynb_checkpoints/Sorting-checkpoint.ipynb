{
 "cells": [
  {
   "cell_type": "markdown",
   "id": "08af558d",
   "metadata": {},
   "source": [
    "# Sorting"
   ]
  },
  {
   "cell_type": "markdown",
   "id": "c469f40b",
   "metadata": {},
   "source": [
    "Sorting algorithms are used to sort (order) the elements in an array in ascending or descending order."
   ]
  },
  {
   "cell_type": "markdown",
   "id": "01bd84c0",
   "metadata": {},
   "source": [
    "## 1. Bubble Sort"
   ]
  },
  {
   "cell_type": "markdown",
   "id": "284fecf4",
   "metadata": {},
   "source": [
    "1. It sorts an array through repeated swaps of adjacent elements.\n",
    "2. According to the criteria, the elements are swapped to shift elements towards the beginning or end of the array.\n",
    "3. Has O(n^2) time complexity."
   ]
  },
  {
   "cell_type": "code",
   "execution_count": 1,
   "id": "74e07c4a",
   "metadata": {},
   "outputs": [],
   "source": [
    "def bubble_sort(arr):\n",
    "    for i in range(len(arr)):\n",
    "        for j in range(len(arr)-i-1):\n",
    "            if arr[j] > arr[j+1]:\n",
    "                # swap the elements\n",
    "                temp = arr[j]\n",
    "                arr[j] = arr[j+1]\n",
    "                arr[j+1] = temp\n",
    "\n",
    "    return arr"
   ]
  },
  {
   "cell_type": "code",
   "execution_count": 2,
   "id": "d4ae0f65",
   "metadata": {},
   "outputs": [
    {
     "data": {
      "text/plain": [
       "[1, 2, 3, 4, 7, 9]"
      ]
     },
     "execution_count": 2,
     "metadata": {},
     "output_type": "execute_result"
    }
   ],
   "source": [
    "ar = [4, 2, 9, 7, 3, 1]\n",
    "bubble_sort(ar)"
   ]
  },
  {
   "cell_type": "markdown",
   "id": "322c2539",
   "metadata": {},
   "source": [
    "## 2. Merge Sort"
   ]
  },
  {
   "cell_type": "markdown",
   "id": "38c638cc",
   "metadata": {},
   "source": [
    "1. Recursive sorting technique - uses divide and conquer strategy to break down arrays into smaller arrays until sorting them is really simple (an array with just a single element is already sorted).\n",
    "2. Operates in two steps -\n",
    "    * Split the array into smaller and smaller arrays (splits them at the middle index)\n",
    "    * Recombine (or merge) the smaller arrays into sorted arrays.\n",
    "    \n",
    "    \n",
    "3. The best, average, and worst case time complexities for merge sort are the same - O(N log N).\n",
    "4. Merge sort also requires space. Each separation requires a temporary array and so a merge sort would require enough space to save the whole input a second time."
   ]
  },
  {
   "cell_type": "code",
   "execution_count": 3,
   "id": "f9b04815",
   "metadata": {},
   "outputs": [
    {
     "data": {
      "text/plain": [
       "[1, 2, 3, 4, 5, 6, 8]"
      ]
     },
     "execution_count": 3,
     "metadata": {},
     "output_type": "execute_result"
    }
   ],
   "source": [
    "# helper function to merge sorted lists\n",
    "def merge(left, right):\n",
    "    result = []\n",
    "    \n",
    "    # if both lists have elements\n",
    "    while (left and right):\n",
    "        if left[0] < right[0]:\n",
    "            result.append(left[0])\n",
    "            left.pop(0)\n",
    "        else:\n",
    "            result.append(right[0])\n",
    "            right.pop(0)\n",
    "    \n",
    "    # append the remaining elements\n",
    "    if len(left) > 0:\n",
    "        result += left\n",
    "    if len(right) > 0:\n",
    "        result += right\n",
    "    \n",
    "    return result\n",
    "\n",
    "merge([1,3,5], [2,4,6,8])"
   ]
  },
  {
   "cell_type": "code",
   "execution_count": 4,
   "id": "1da4b97c",
   "metadata": {},
   "outputs": [],
   "source": [
    "# merge sort\n",
    "def merge_sort(arr):\n",
    "    # base case\n",
    "    if len(arr) <= 1:\n",
    "        return arr\n",
    "    \n",
    "    # split the array\n",
    "    middle_index = len(arr) // 2\n",
    "    left_slice = arr[:middle_index]\n",
    "    right_slice = arr[middle_index:]\n",
    "    \n",
    "    # sort the left and right slices\n",
    "    left_sorted = merge_sort(left_slice)\n",
    "    right_sorted = merge_sort(right_slice)\n",
    "    \n",
    "    # return the merged array\n",
    "    return merge(left_sorted, right_sorted)"
   ]
  },
  {
   "cell_type": "code",
   "execution_count": 5,
   "id": "b81303a1",
   "metadata": {},
   "outputs": [
    {
     "data": {
      "text/plain": [
       "[1, 2, 3, 4, 7, 9]"
      ]
     },
     "execution_count": 5,
     "metadata": {},
     "output_type": "execute_result"
    }
   ],
   "source": [
    "ar = [4, 2, 9, 7, 3, 1]\n",
    "merge_sort(ar)"
   ]
  },
  {
   "cell_type": "markdown",
   "id": "986af4a4",
   "metadata": {},
   "source": [
    "## 3. Quick Sort"
   ]
  },
  {
   "cell_type": "markdown",
   "id": "97d75ac9",
   "metadata": {},
   "source": [
    "1. Efficient sorting algorithm. It is a recursive algorithm that uses the divide and conquer strategy.\n",
    "2. Algorithm -\n",
    "    * We choose a single pivot element from the array. Every other element in the array is compared with the pivot which partitions the array into three groups -\n",
    "        1. A sub-array of elements smaller than the pivot.\n",
    "        2. The pivot itself.\n",
    "        3. A sub-array of elements greater than the pivot.\n",
    "    * The process is repeated on sub-arrays until they contain zero or one elements. (Elements in the smaller than group are never compared with the elments in the greater-than group)\n",
    "    * The sub-arrays of one-element each are recombined into -\n",
    "        1. A new array with sorted ordering.\n",
    "        2. Or, Values within the original array are swapped in-place producing a sorted mutation of the original array.\n",
    "        \n",
    "\n",
    "3. Worst case runtime of quick sort is O(n^2) but the average case is O(N log N). For quicksort, the worst case is so uncommon that we generally refer to it as O(N log N)."
   ]
  },
  {
   "cell_type": "code",
   "execution_count": 6,
   "id": "df3e7866",
   "metadata": {},
   "outputs": [],
   "source": [
    "from random import randrange\n",
    "\n",
    "def quicksort(ls, start, end):\n",
    "    \"\"\" \n",
    "    - Start and end are pointers to the list start and the list end\n",
    "    - We will be passing the same list for each recursive call but \n",
    "    the start and end pointers will mark the part of the list we are considering \n",
    "    \"\"\"\n",
    "    # base case\n",
    "    if start >= end:\n",
    "        return\n",
    "    \n",
    "    # get the pivot element and its index\n",
    "    pivot_idx = randrange(start, end)\n",
    "    pivot_element = ls[pivot_idx]\n",
    "    \n",
    "    # swap the end element with the pivot element, this makes sure that the pivot will always be located at the end of the list\n",
    "    ls[end], ls[pivot_idx] = ls[pivot_idx], ls[end]\n",
    "    \n",
    "    # create the lesser than pointer\n",
    "    lesser_than_pointer = start\n",
    "    # iterate through the list\n",
    "    for idx in range(start, end):\n",
    "        # check if the value at idx is less than the pivot\n",
    "        if ls[idx] < pivot_element:\n",
    "            # swap the lesser_than_pointer and idx values\n",
    "            ls[lesser_than_pointer], ls[idx] = ls[idx], ls[lesser_than_pointer]\n",
    "            # increment the lesser than pointer\n",
    "            lesser_than_pointer += 1\n",
    "    \n",
    "    # after the loop is finished, swap the pivot, which is at the end with the lesser than pointer\n",
    "    ls[lesser_than_pointer], ls[end] = ls[end], ls[lesser_than_pointer]\n",
    "    \n",
    "    # call quicksort on the \"left\" and \"right\" sublists \n",
    "    quicksort(ls, start, lesser_than_pointer-1)\n",
    "    quicksort(ls, lesser_than_pointer+1, end)"
   ]
  },
  {
   "cell_type": "code",
   "execution_count": 7,
   "id": "b12a0a47",
   "metadata": {},
   "outputs": [
    {
     "name": "stdout",
     "output_type": "stream",
     "text": [
      "[4, 2, 9, 7, 3, 1]\n"
     ]
    }
   ],
   "source": [
    "ar = [4, 2, 9, 7, 3, 1]\n",
    "print(ar)"
   ]
  },
  {
   "cell_type": "code",
   "execution_count": 8,
   "id": "e197c64f",
   "metadata": {},
   "outputs": [
    {
     "name": "stdout",
     "output_type": "stream",
     "text": [
      "[1, 2, 3, 4, 7, 9]\n"
     ]
    }
   ],
   "source": [
    "# sorts the list inplace, has no return value\n",
    "quicksort(ar, 0, len(ar)-1)\n",
    "print(ar)"
   ]
  },
  {
   "cell_type": "code",
   "execution_count": null,
   "id": "9ef5dccc",
   "metadata": {},
   "outputs": [],
   "source": []
  }
 ],
 "metadata": {
  "kernelspec": {
   "display_name": "Python 3",
   "language": "python",
   "name": "python3"
  },
  "language_info": {
   "codemirror_mode": {
    "name": "ipython",
    "version": 3
   },
   "file_extension": ".py",
   "mimetype": "text/x-python",
   "name": "python",
   "nbconvert_exporter": "python",
   "pygments_lexer": "ipython3",
   "version": "3.8.8"
  }
 },
 "nbformat": 4,
 "nbformat_minor": 5
}
