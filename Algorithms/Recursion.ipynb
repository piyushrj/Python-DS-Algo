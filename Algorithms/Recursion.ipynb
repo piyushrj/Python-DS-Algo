{
 "cells": [
  {
   "cell_type": "markdown",
   "id": "ef73dff0",
   "metadata": {},
   "source": [
    "# Recursion"
   ]
  },
  {
   "cell_type": "markdown",
   "id": "0cae1de3",
   "metadata": {},
   "source": [
    "1. Strategy for solving problems by defining the problem in terms of itself.\n",
    "2. Recursion has two fundamental steps -\n",
    "\n",
    "    * The base case - Decides whether the function will recurse or not.\n",
    "    * The recursive step - This step moves us closer to the base case.\n",
    "\n",
    "\n",
    "3. Recursion has costs that iteration doesn't. Every recursive call spends time on the call stack. Put enough function calls on the call stack and eventually there's no room left (stack overflow).  \n",
    "4. For determining the runtime complexity of recursion, we count the relation of the function calls to the size of the input."
   ]
  },
  {
   "cell_type": "markdown",
   "id": "ee9daedb",
   "metadata": {},
   "source": [
    "## Examples"
   ]
  },
  {
   "cell_type": "markdown",
   "id": "559dcbdc",
   "metadata": {},
   "source": [
    "### 1. Sum to one"
   ]
  },
  {
   "cell_type": "markdown",
   "id": "f1916b7c",
   "metadata": {},
   "source": [
    "Given a number n, return the sum of numbers from 1 to n."
   ]
  },
  {
   "cell_type": "code",
   "execution_count": 1,
   "id": "ac77ed09",
   "metadata": {},
   "outputs": [
    {
     "data": {
      "text/plain": [
       "15"
      ]
     },
     "execution_count": 1,
     "metadata": {},
     "output_type": "execute_result"
    }
   ],
   "source": [
    "# iterative implementation\n",
    "def sum_to_one(n):\n",
    "    result = 0\n",
    "    for i in range(n, 0, -1):\n",
    "        result += i\n",
    "    return result\n",
    "\n",
    "sum_to_one(5)"
   ]
  },
  {
   "cell_type": "code",
   "execution_count": 2,
   "id": "41f913d8",
   "metadata": {},
   "outputs": [
    {
     "data": {
      "text/plain": [
       "15"
      ]
     },
     "execution_count": 2,
     "metadata": {},
     "output_type": "execute_result"
    }
   ],
   "source": [
    "# recursive implementation\n",
    "def sum_to_one(n):\n",
    "    if n == 1:\n",
    "        return 1\n",
    "    else:\n",
    "        return n + sum_to_one(n-1)\n",
    "\n",
    "sum_to_one(5)"
   ]
  },
  {
   "cell_type": "markdown",
   "id": "e1a693c0",
   "metadata": {},
   "source": [
    "### 2. Factorial"
   ]
  },
  {
   "cell_type": "markdown",
   "id": "b942b26f",
   "metadata": {},
   "source": [
    "Given a number n, return the sum of numbers from 1 to n."
   ]
  },
  {
   "cell_type": "code",
   "execution_count": 3,
   "id": "213f9457",
   "metadata": {},
   "outputs": [
    {
     "data": {
      "text/plain": [
       "120"
      ]
     },
     "execution_count": 3,
     "metadata": {},
     "output_type": "execute_result"
    }
   ],
   "source": [
    "# iterative implementation\n",
    "def factorial(n):\n",
    "    result = 1\n",
    "    for i in range(n, 0, -1):\n",
    "        result = result * i\n",
    "    return result\n",
    "\n",
    "factorial(5)"
   ]
  },
  {
   "cell_type": "code",
   "execution_count": 4,
   "id": "e30cd267",
   "metadata": {},
   "outputs": [
    {
     "data": {
      "text/plain": [
       "120"
      ]
     },
     "execution_count": 4,
     "metadata": {},
     "output_type": "execute_result"
    }
   ],
   "source": [
    "# recursive implementation\n",
    "def factorial(n):\n",
    "    if n == 1:\n",
    "        return 1\n",
    "    else:\n",
    "        return n * factorial(n-1)\n",
    "\n",
    "factorial(5)"
   ]
  },
  {
   "cell_type": "markdown",
   "id": "ee93828d",
   "metadata": {},
   "source": [
    "### 3: Generate a power set for the given set"
   ]
  },
  {
   "cell_type": "markdown",
   "id": "2511b873",
   "metadata": {},
   "source": [
    "Power set is a set of all possible sets from values in a given set. A set of size n has 2^N sets in its power set."
   ]
  },
  {
   "cell_type": "code",
   "execution_count": 5,
   "id": "6c6adaa3",
   "metadata": {},
   "outputs": [],
   "source": [
    "# power_set(['a', 'b', 'c'])\n",
    "# [\n",
    "#   ['a', 'b', 'c'], \n",
    "#   ['a', 'b'], \n",
    "#   ['a', 'c'], \n",
    "#   ['a'], \n",
    "#   ['b', 'c'], \n",
    "#   ['b'], \n",
    "#   ['c'], \n",
    "#   []\n",
    "# ]"
   ]
  },
  {
   "cell_type": "markdown",
   "id": "e5800f44",
   "metadata": {},
   "source": [
    "This can be solved using recursion (you can also solve it using normal iteration, for example, use 0 or 1 to represent whether each element is to be included in a set or not but it has a runtime complexity of O(2^N))"
   ]
  },
  {
   "cell_type": "markdown",
   "id": "f3ed0120",
   "metadata": {},
   "source": [
    "Let's use recursion to solve this problem."
   ]
  },
  {
   "cell_type": "code",
   "execution_count": 6,
   "id": "838d8a49",
   "metadata": {},
   "outputs": [],
   "source": [
    "def power_set(my_list):\n",
    "    # base case: empty list\n",
    "    if len(my_list) == 0:\n",
    "        return [[]]\n",
    "    \n",
    "    # recursive step: subsets without the first element\n",
    "    power_set_without_first = power_set(my_list[1:])\n",
    "    # subsets with first element\n",
    "    with_first = [[my_list[0]] + rest for rest in power_set_without_first]\n",
    "    \n",
    "    # return the combination of the two\n",
    "    return with_first + power_set_without_first"
   ]
  },
  {
   "cell_type": "code",
   "execution_count": 7,
   "id": "7780a2c3",
   "metadata": {},
   "outputs": [
    {
     "data": {
      "text/plain": [
       "[['a', 'b', 'c'], ['a', 'b'], ['a', 'c'], ['a'], ['b', 'c'], ['b'], ['c'], []]"
      ]
     },
     "execution_count": 7,
     "metadata": {},
     "output_type": "execute_result"
    }
   ],
   "source": [
    "power_set(['a', 'b', 'c'])"
   ]
  },
  {
   "cell_type": "markdown",
   "id": "9b99d176",
   "metadata": {},
   "source": [
    "### 4. Flatten a list of lists"
   ]
  },
  {
   "cell_type": "markdown",
   "id": "968dad4d",
   "metadata": {},
   "source": [
    "Let's use recursion to flatten a list of lists."
   ]
  },
  {
   "cell_type": "code",
   "execution_count": 8,
   "id": "004953ba",
   "metadata": {},
   "outputs": [],
   "source": [
    "# nested_planets = ['mercury', 'venus', ['earth'], 'mars', [['jupiter', 'saturn']], 'uranus', ['neptune', 'pluto']]\n",
    " \n",
    "# flatten(nested_planets)\n",
    "# ['mercury', \n",
    "#  'venus', \n",
    "#  'earth', \n",
    "#  'mars', \n",
    "#  'jupiter', \n",
    "#  'saturn', \n",
    "#  'uranus', \n",
    "#  'neptune', \n",
    "#  'pluto']"
   ]
  },
  {
   "cell_type": "code",
   "execution_count": 9,
   "id": "0c6cf356",
   "metadata": {},
   "outputs": [],
   "source": [
    "def flatten(my_list):\n",
    "    result = []\n",
    "    for ls in my_list:\n",
    "        if isinstance(ls, list):\n",
    "            flat_list = flatten(ls)\n",
    "            result += flat_list\n",
    "        else:\n",
    "            result.append(ls)\n",
    "            \n",
    "    return result"
   ]
  },
  {
   "cell_type": "code",
   "execution_count": 10,
   "id": "f4fd62a6",
   "metadata": {},
   "outputs": [
    {
     "data": {
      "text/plain": [
       "['mercury',\n",
       " 'venus',\n",
       " 'earth',\n",
       " 'mars',\n",
       " 'jupiter',\n",
       " 'saturn',\n",
       " 'uranus',\n",
       " 'neptune',\n",
       " 'pluto']"
      ]
     },
     "execution_count": 10,
     "metadata": {},
     "output_type": "execute_result"
    }
   ],
   "source": [
    "nested_planets = ['mercury', 'venus', ['earth'], 'mars', [['jupiter', 'saturn']], 'uranus', ['neptune', 'pluto']]\n",
    " \n",
    "flatten(nested_planets)"
   ]
  },
  {
   "cell_type": "markdown",
   "id": "654f578e",
   "metadata": {},
   "source": [
    "### 5. Fibonacci Sequence"
   ]
  },
  {
   "cell_type": "markdown",
   "id": "a05ccbe4",
   "metadata": {},
   "source": [
    "In the Fibonacci Sequence, the next number is the sum or previous two numbers. It starts from 0 and 1 and then each number if computed at the sum of previous two.  \n",
    "\n",
    "0, 1, 1, 2, 3, 5, 8, 13, ..."
   ]
  },
  {
   "cell_type": "markdown",
   "id": "95fdd03d",
   "metadata": {},
   "source": [
    "Get the Fibonacci sequence's nth number."
   ]
  },
  {
   "cell_type": "code",
   "execution_count": 11,
   "id": "6bc1ceb6",
   "metadata": {},
   "outputs": [],
   "source": [
    "# iterative approach\n",
    "def fibonacci(n):\n",
    "    if n == 0:\n",
    "        return 0\n",
    "    if n == 1:\n",
    "        return 1\n",
    "    \n",
    "    fib_seq = [0, 1]\n",
    "    for i in range(n-1, 0, -1):\n",
    "        next_num = fib_seq[-1] + fib_seq[-2]\n",
    "        fib_seq.append(next_num)\n",
    "    \n",
    "    return fib_seq[-1]"
   ]
  },
  {
   "cell_type": "code",
   "execution_count": 12,
   "id": "0ef11666",
   "metadata": {},
   "outputs": [
    {
     "data": {
      "text/plain": [
       "13"
      ]
     },
     "execution_count": 12,
     "metadata": {},
     "output_type": "execute_result"
    }
   ],
   "source": [
    "fibonacci(7)"
   ]
  },
  {
   "cell_type": "code",
   "execution_count": 13,
   "id": "7cf86551",
   "metadata": {},
   "outputs": [],
   "source": [
    "# recursive approach\n",
    "def fibonacci(n):\n",
    "    # base case\n",
    "    if n == 0:\n",
    "        return 0\n",
    "    if n == 1:\n",
    "        return 1\n",
    "    \n",
    "    return fibonacci(n-1) + fibonacci(n-2)"
   ]
  },
  {
   "cell_type": "code",
   "execution_count": 14,
   "id": "9970bef0",
   "metadata": {},
   "outputs": [
    {
     "data": {
      "text/plain": [
       "13"
      ]
     },
     "execution_count": 14,
     "metadata": {},
     "output_type": "execute_result"
    }
   ],
   "source": [
    "fibonacci(7)"
   ]
  },
  {
   "cell_type": "markdown",
   "id": "f610c15b",
   "metadata": {},
   "source": [
    "### 6. Recursive Data Structures"
   ]
  },
  {
   "cell_type": "markdown",
   "id": "7696fedb",
   "metadata": {},
   "source": [
    "Trees are a recursive data structure because their definition is self-referential. A tree is a data structure which contains a piece of data and references to other trees.  \n",
    "\n",
    "Binary search trees:\n",
    "* Reference two children at most per tree node.\n",
    "* The “left” child of the tree must contain a value lesser than its parent\n",
    "* The “right” child of the tree must contain a value greater than its parent.  \n",
    "\n",
    "Trees are an abstract data type, meaning we can implement our version in a number of ways as long as we follow the rules above."
   ]
  },
  {
   "cell_type": "code",
   "execution_count": 15,
   "id": "1cdd4f37",
   "metadata": {},
   "outputs": [],
   "source": [
    "# # example\n",
    "# bst_tree_node = {\"data\": 42}\n",
    "# bst_tree_node[\"left_child\"] = {\"data\": 36}\n",
    "# bst_tree_node[\"right_child\"] = {\"data\": 73}\n",
    " \n",
    "# bst_tree_node[\"data\"] > bst_tree_node[\"left_child\"][\"data\"]\n",
    "# # True\n",
    "# bst_tree_node[\"data\"] < bst_tree_node[\"right_child\"[\"data\"]\n",
    "# # True"
   ]
  },
  {
   "cell_type": "markdown",
   "id": "0ebcea3f",
   "metadata": {},
   "source": [
    "Write a function to create a binary search tree from a sorted list of values."
   ]
  },
  {
   "cell_type": "code",
   "execution_count": 16,
   "id": "533b15b7",
   "metadata": {},
   "outputs": [],
   "source": [
    "def build_bst(my_list):\n",
    "    # base case\n",
    "    if len(my_list) == 0:\n",
    "        return \"No child\"\n",
    "    \n",
    "    # assuming my_list is sorted\n",
    "    middle_index = len(my_list) // 2\n",
    "    middle_value = my_list[middle_index]\n",
    "    \n",
    "    tree_node = {\"data\": middle_value}\n",
    "    tree_node[\"left_child\"] = build_bst(my_list[:middle_index])\n",
    "    tree_node[\"right_child\"] = build_bst(my_list[middle_index+1:])\n",
    "    \n",
    "    return tree_node"
   ]
  },
  {
   "cell_type": "code",
   "execution_count": 17,
   "id": "463aace9",
   "metadata": {},
   "outputs": [
    {
     "name": "stdout",
     "output_type": "stream",
     "text": [
      "{'data': 14, 'left_child': {'data': 13, 'left_child': {'data': 12, 'left_child': 'No child', 'right_child': 'No child'}, 'right_child': 'No child'}, 'right_child': {'data': 16, 'left_child': {'data': 15, 'left_child': 'No child', 'right_child': 'No child'}, 'right_child': 'No child'}}\n"
     ]
    }
   ],
   "source": [
    "sorted_list = [12, 13, 14, 15, 16]\n",
    "binary_search_tree = build_bst(sorted_list)\n",
    "print(binary_search_tree)"
   ]
  },
  {
   "cell_type": "code",
   "execution_count": null,
   "id": "c79a8882",
   "metadata": {},
   "outputs": [],
   "source": []
  }
 ],
 "metadata": {
  "kernelspec": {
   "display_name": "Python 3",
   "language": "python",
   "name": "python3"
  },
  "language_info": {
   "codemirror_mode": {
    "name": "ipython",
    "version": 3
   },
   "file_extension": ".py",
   "mimetype": "text/x-python",
   "name": "python",
   "nbconvert_exporter": "python",
   "pygments_lexer": "ipython3",
   "version": "3.8.8"
  }
 },
 "nbformat": 4,
 "nbformat_minor": 5
}
